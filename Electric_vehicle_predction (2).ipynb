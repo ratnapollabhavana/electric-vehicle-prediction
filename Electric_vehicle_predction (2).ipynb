{
 "cells": [
  {
   "cell_type": "code",
   "execution_count": 2,
   "id": "dd92e2eb",
   "metadata": {},
   "outputs": [],
   "source": [
    "# Import essential libraries\n",
    "import pandas as pd\n",
    "import numpy as np\n",
    "\n",
    "import matplotlib.pyplot as plt\n",
    "import seaborn as sns\n",
    "from sklearn.pipeline import Pipeline\n",
    "from sklearn.impute import SimpleImputer\n",
    "from sklearn.preprocessing import OneHotEncoder,StandardScaler\n",
    "from sklearn.pipeline import make_pipeline\n",
    "\n",
    "from sklearn.model_selection import train_test_split ,cross_val_score\n",
    "from sklearn.preprocessing import OneHotEncoder\n",
    "from sklearn.compose import ColumnTransformer\n",
    "from sklearn.model_selection import train_test_split\n",
    "from sklearn.linear_model import LinearRegression, Ridge, Lasso, ElasticNet\n",
    "from sklearn.ensemble import RandomForestRegressor\n",
    "from sklearn.tree import DecisionTreeRegressor\n",
    "from sklearn.tree import DecisionTreeClassifier\n",
    "from sklearn.metrics import accuracy_score\n",
    "from sklearn.model_selection import cross_val_score\n",
    "from sklearn.model_selection import KFold\n",
    "from sklearn.metrics import r2_score, mean_absolute_error, mean_squared_error\n",
    "import math\n",
    "\n",
    "import statsmodels.api as sm"
   ]
  },
  {
   "cell_type": "code",
   "execution_count": 3,
   "id": "175852b6",
   "metadata": {},
   "outputs": [
    {
     "name": "stdout",
     "output_type": "stream",
     "text": [
      "Requirement already satisfied: pandas in c:\\users\\ratna\\anaconda3\\lib\\site-packages (2.1.4)\n",
      "Requirement already satisfied: numpy<2,>=1.23.2 in c:\\users\\ratna\\anaconda3\\lib\\site-packages (from pandas) (1.26.4)\n",
      "Requirement already satisfied: python-dateutil>=2.8.2 in c:\\users\\ratna\\anaconda3\\lib\\site-packages (from pandas) (2.8.2)\n",
      "Requirement already satisfied: pytz>=2020.1 in c:\\users\\ratna\\anaconda3\\lib\\site-packages (from pandas) (2023.3.post1)\n",
      "Requirement already satisfied: tzdata>=2022.1 in c:\\users\\ratna\\anaconda3\\lib\\site-packages (from pandas) (2023.3)\n",
      "Requirement already satisfied: six>=1.5 in c:\\users\\ratna\\anaconda3\\lib\\site-packages (from python-dateutil>=2.8.2->pandas) (1.16.0)\n",
      "Note: you may need to restart the kernel to use updated packages.\n"
     ]
    }
   ],
   "source": [
    "pip install pandas "
   ]
  },
  {
   "cell_type": "code",
   "execution_count": 4,
   "id": "247ed137",
   "metadata": {},
   "outputs": [],
   "source": [
    "# Load the Dataset\n",
    "data=pd.read_csv(r\"C:\\Users\\ratna\\Downloads\\EV_cars.csv\")"
   ]
  },
  {
   "cell_type": "code",
   "execution_count": 5,
   "id": "100980c0",
   "metadata": {},
   "outputs": [
    {
     "data": {
      "text/html": [
       "<div>\n",
       "<style scoped>\n",
       "    .dataframe tbody tr th:only-of-type {\n",
       "        vertical-align: middle;\n",
       "    }\n",
       "\n",
       "    .dataframe tbody tr th {\n",
       "        vertical-align: top;\n",
       "    }\n",
       "\n",
       "    .dataframe thead th {\n",
       "        text-align: right;\n",
       "    }\n",
       "</style>\n",
       "<table border=\"1\" class=\"dataframe\">\n",
       "  <thead>\n",
       "    <tr style=\"text-align: right;\">\n",
       "      <th></th>\n",
       "      <th>Battery</th>\n",
       "      <th>Car_name</th>\n",
       "      <th>Car_name_link</th>\n",
       "      <th>Efficiency</th>\n",
       "      <th>Fast_charge</th>\n",
       "      <th>Price.DE.</th>\n",
       "      <th>Range</th>\n",
       "      <th>Top_speed</th>\n",
       "      <th>acceleration..0.100.</th>\n",
       "    </tr>\n",
       "  </thead>\n",
       "  <tbody>\n",
       "    <tr>\n",
       "      <th>0</th>\n",
       "      <td>75.0</td>\n",
       "      <td>Tesla Model Y Long Range Dual Motor</td>\n",
       "      <td>https://ev-database.org/car/1619/Tesla-Model-Y...</td>\n",
       "      <td>172</td>\n",
       "      <td>670.0</td>\n",
       "      <td>59017.0</td>\n",
       "      <td>435</td>\n",
       "      <td>217</td>\n",
       "      <td>5.0</td>\n",
       "    </tr>\n",
       "    <tr>\n",
       "      <th>1</th>\n",
       "      <td>57.5</td>\n",
       "      <td>Tesla Model 3</td>\n",
       "      <td>https://ev-database.org/car/1991/Tesla-Model-3</td>\n",
       "      <td>137</td>\n",
       "      <td>700.0</td>\n",
       "      <td>46220.0</td>\n",
       "      <td>420</td>\n",
       "      <td>201</td>\n",
       "      <td>6.1</td>\n",
       "    </tr>\n",
       "    <tr>\n",
       "      <th>2</th>\n",
       "      <td>60.5</td>\n",
       "      <td>BYD ATTO 3</td>\n",
       "      <td>https://ev-database.org/car/1782/BYD-ATTO-3</td>\n",
       "      <td>183</td>\n",
       "      <td>370.0</td>\n",
       "      <td>44625.0</td>\n",
       "      <td>330</td>\n",
       "      <td>160</td>\n",
       "      <td>7.3</td>\n",
       "    </tr>\n",
       "    <tr>\n",
       "      <th>3</th>\n",
       "      <td>61.7</td>\n",
       "      <td>MG MG4 Electric 64 kWh</td>\n",
       "      <td>https://ev-database.org/car/1708/MG-MG4-Electr...</td>\n",
       "      <td>171</td>\n",
       "      <td>630.0</td>\n",
       "      <td>39990.0</td>\n",
       "      <td>360</td>\n",
       "      <td>160</td>\n",
       "      <td>7.9</td>\n",
       "    </tr>\n",
       "    <tr>\n",
       "      <th>4</th>\n",
       "      <td>75.0</td>\n",
       "      <td>Tesla Model 3 Long Range Dual Motor</td>\n",
       "      <td>https://ev-database.org/car/1992/Tesla-Model-3...</td>\n",
       "      <td>149</td>\n",
       "      <td>780.0</td>\n",
       "      <td>55220.0</td>\n",
       "      <td>505</td>\n",
       "      <td>201</td>\n",
       "      <td>4.4</td>\n",
       "    </tr>\n",
       "    <tr>\n",
       "      <th>...</th>\n",
       "      <td>...</td>\n",
       "      <td>...</td>\n",
       "      <td>...</td>\n",
       "      <td>...</td>\n",
       "      <td>...</td>\n",
       "      <td>...</td>\n",
       "      <td>...</td>\n",
       "      <td>...</td>\n",
       "      <td>...</td>\n",
       "    </tr>\n",
       "    <tr>\n",
       "      <th>355</th>\n",
       "      <td>46.3</td>\n",
       "      <td>Citroen e-Jumpy Combi XL 50 kWh</td>\n",
       "      <td>https://ev-database.org/car/1596/Citroen-e-Jum...</td>\n",
       "      <td>257</td>\n",
       "      <td>290.0</td>\n",
       "      <td>52730.0</td>\n",
       "      <td>180</td>\n",
       "      <td>130</td>\n",
       "      <td>12.1</td>\n",
       "    </tr>\n",
       "    <tr>\n",
       "      <th>356</th>\n",
       "      <td>46.3</td>\n",
       "      <td>Fiat E-Ulysse L2 50 kWh</td>\n",
       "      <td>https://ev-database.org/car/1721/Fiat-E-Ulysse...</td>\n",
       "      <td>250</td>\n",
       "      <td>290.0</td>\n",
       "      <td>55990.0</td>\n",
       "      <td>185</td>\n",
       "      <td>130</td>\n",
       "      <td>12.1</td>\n",
       "    </tr>\n",
       "    <tr>\n",
       "      <th>357</th>\n",
       "      <td>46.3</td>\n",
       "      <td>Opel Vivaro-e Combi L 50 kWh</td>\n",
       "      <td>https://ev-database.org/car/1601/Opel-Vivaro-e...</td>\n",
       "      <td>257</td>\n",
       "      <td>290.0</td>\n",
       "      <td>51825.0</td>\n",
       "      <td>180</td>\n",
       "      <td>130</td>\n",
       "      <td>12.1</td>\n",
       "    </tr>\n",
       "    <tr>\n",
       "      <th>358</th>\n",
       "      <td>68.0</td>\n",
       "      <td>Opel Zafira-e Life M 75 kWh</td>\n",
       "      <td>https://ev-database.org/car/1348/Opel-Zafira-e...</td>\n",
       "      <td>257</td>\n",
       "      <td>290.0</td>\n",
       "      <td>69250.0</td>\n",
       "      <td>265</td>\n",
       "      <td>130</td>\n",
       "      <td>13.3</td>\n",
       "    </tr>\n",
       "    <tr>\n",
       "      <th>359</th>\n",
       "      <td>46.3</td>\n",
       "      <td>Fiat E-Ulysse L3 50 kWh</td>\n",
       "      <td>https://ev-database.org/car/1723/Fiat-E-Ulysse...</td>\n",
       "      <td>257</td>\n",
       "      <td>290.0</td>\n",
       "      <td>56990.0</td>\n",
       "      <td>180</td>\n",
       "      <td>130</td>\n",
       "      <td>12.1</td>\n",
       "    </tr>\n",
       "  </tbody>\n",
       "</table>\n",
       "<p>360 rows × 9 columns</p>\n",
       "</div>"
      ],
      "text/plain": [
       "     Battery                             Car_name  \\\n",
       "0       75.0  Tesla Model Y Long Range Dual Motor   \n",
       "1       57.5                        Tesla Model 3   \n",
       "2       60.5                           BYD ATTO 3   \n",
       "3       61.7               MG MG4 Electric 64 kWh   \n",
       "4       75.0  Tesla Model 3 Long Range Dual Motor   \n",
       "..       ...                                  ...   \n",
       "355     46.3      Citroen e-Jumpy Combi XL 50 kWh   \n",
       "356     46.3              Fiat E-Ulysse L2 50 kWh   \n",
       "357     46.3         Opel Vivaro-e Combi L 50 kWh   \n",
       "358     68.0          Opel Zafira-e Life M 75 kWh   \n",
       "359     46.3              Fiat E-Ulysse L3 50 kWh   \n",
       "\n",
       "                                         Car_name_link  Efficiency  \\\n",
       "0    https://ev-database.org/car/1619/Tesla-Model-Y...         172   \n",
       "1       https://ev-database.org/car/1991/Tesla-Model-3         137   \n",
       "2          https://ev-database.org/car/1782/BYD-ATTO-3         183   \n",
       "3    https://ev-database.org/car/1708/MG-MG4-Electr...         171   \n",
       "4    https://ev-database.org/car/1992/Tesla-Model-3...         149   \n",
       "..                                                 ...         ...   \n",
       "355  https://ev-database.org/car/1596/Citroen-e-Jum...         257   \n",
       "356  https://ev-database.org/car/1721/Fiat-E-Ulysse...         250   \n",
       "357  https://ev-database.org/car/1601/Opel-Vivaro-e...         257   \n",
       "358  https://ev-database.org/car/1348/Opel-Zafira-e...         257   \n",
       "359  https://ev-database.org/car/1723/Fiat-E-Ulysse...         257   \n",
       "\n",
       "     Fast_charge  Price.DE.  Range  Top_speed  acceleration..0.100.  \n",
       "0          670.0    59017.0    435        217                   5.0  \n",
       "1          700.0    46220.0    420        201                   6.1  \n",
       "2          370.0    44625.0    330        160                   7.3  \n",
       "3          630.0    39990.0    360        160                   7.9  \n",
       "4          780.0    55220.0    505        201                   4.4  \n",
       "..           ...        ...    ...        ...                   ...  \n",
       "355        290.0    52730.0    180        130                  12.1  \n",
       "356        290.0    55990.0    185        130                  12.1  \n",
       "357        290.0    51825.0    180        130                  12.1  \n",
       "358        290.0    69250.0    265        130                  13.3  \n",
       "359        290.0    56990.0    180        130                  12.1  \n",
       "\n",
       "[360 rows x 9 columns]"
      ]
     },
     "execution_count": 5,
     "metadata": {},
     "output_type": "execute_result"
    }
   ],
   "source": [
    "data"
   ]
  },
  {
   "cell_type": "code",
   "execution_count": 6,
   "id": "0d48c318",
   "metadata": {},
   "outputs": [
    {
     "data": {
      "text/html": [
       "<div>\n",
       "<style scoped>\n",
       "    .dataframe tbody tr th:only-of-type {\n",
       "        vertical-align: middle;\n",
       "    }\n",
       "\n",
       "    .dataframe tbody tr th {\n",
       "        vertical-align: top;\n",
       "    }\n",
       "\n",
       "    .dataframe thead th {\n",
       "        text-align: right;\n",
       "    }\n",
       "</style>\n",
       "<table border=\"1\" class=\"dataframe\">\n",
       "  <thead>\n",
       "    <tr style=\"text-align: right;\">\n",
       "      <th></th>\n",
       "      <th>Battery</th>\n",
       "      <th>Car_name</th>\n",
       "      <th>Car_name_link</th>\n",
       "      <th>Efficiency</th>\n",
       "      <th>Fast_charge</th>\n",
       "      <th>Price.DE.</th>\n",
       "      <th>Range</th>\n",
       "      <th>Top_speed</th>\n",
       "      <th>acceleration..0.100.</th>\n",
       "    </tr>\n",
       "  </thead>\n",
       "  <tbody>\n",
       "    <tr>\n",
       "      <th>0</th>\n",
       "      <td>75.0</td>\n",
       "      <td>Tesla Model Y Long Range Dual Motor</td>\n",
       "      <td>https://ev-database.org/car/1619/Tesla-Model-Y...</td>\n",
       "      <td>172</td>\n",
       "      <td>670.0</td>\n",
       "      <td>59017.0</td>\n",
       "      <td>435</td>\n",
       "      <td>217</td>\n",
       "      <td>5.0</td>\n",
       "    </tr>\n",
       "    <tr>\n",
       "      <th>1</th>\n",
       "      <td>57.5</td>\n",
       "      <td>Tesla Model 3</td>\n",
       "      <td>https://ev-database.org/car/1991/Tesla-Model-3</td>\n",
       "      <td>137</td>\n",
       "      <td>700.0</td>\n",
       "      <td>46220.0</td>\n",
       "      <td>420</td>\n",
       "      <td>201</td>\n",
       "      <td>6.1</td>\n",
       "    </tr>\n",
       "    <tr>\n",
       "      <th>2</th>\n",
       "      <td>60.5</td>\n",
       "      <td>BYD ATTO 3</td>\n",
       "      <td>https://ev-database.org/car/1782/BYD-ATTO-3</td>\n",
       "      <td>183</td>\n",
       "      <td>370.0</td>\n",
       "      <td>44625.0</td>\n",
       "      <td>330</td>\n",
       "      <td>160</td>\n",
       "      <td>7.3</td>\n",
       "    </tr>\n",
       "    <tr>\n",
       "      <th>3</th>\n",
       "      <td>61.7</td>\n",
       "      <td>MG MG4 Electric 64 kWh</td>\n",
       "      <td>https://ev-database.org/car/1708/MG-MG4-Electr...</td>\n",
       "      <td>171</td>\n",
       "      <td>630.0</td>\n",
       "      <td>39990.0</td>\n",
       "      <td>360</td>\n",
       "      <td>160</td>\n",
       "      <td>7.9</td>\n",
       "    </tr>\n",
       "    <tr>\n",
       "      <th>4</th>\n",
       "      <td>75.0</td>\n",
       "      <td>Tesla Model 3 Long Range Dual Motor</td>\n",
       "      <td>https://ev-database.org/car/1992/Tesla-Model-3...</td>\n",
       "      <td>149</td>\n",
       "      <td>780.0</td>\n",
       "      <td>55220.0</td>\n",
       "      <td>505</td>\n",
       "      <td>201</td>\n",
       "      <td>4.4</td>\n",
       "    </tr>\n",
       "  </tbody>\n",
       "</table>\n",
       "</div>"
      ],
      "text/plain": [
       "   Battery                             Car_name  \\\n",
       "0     75.0  Tesla Model Y Long Range Dual Motor   \n",
       "1     57.5                        Tesla Model 3   \n",
       "2     60.5                           BYD ATTO 3   \n",
       "3     61.7               MG MG4 Electric 64 kWh   \n",
       "4     75.0  Tesla Model 3 Long Range Dual Motor   \n",
       "\n",
       "                                       Car_name_link  Efficiency  Fast_charge  \\\n",
       "0  https://ev-database.org/car/1619/Tesla-Model-Y...         172        670.0   \n",
       "1     https://ev-database.org/car/1991/Tesla-Model-3         137        700.0   \n",
       "2        https://ev-database.org/car/1782/BYD-ATTO-3         183        370.0   \n",
       "3  https://ev-database.org/car/1708/MG-MG4-Electr...         171        630.0   \n",
       "4  https://ev-database.org/car/1992/Tesla-Model-3...         149        780.0   \n",
       "\n",
       "   Price.DE.  Range  Top_speed  acceleration..0.100.  \n",
       "0    59017.0    435        217                   5.0  \n",
       "1    46220.0    420        201                   6.1  \n",
       "2    44625.0    330        160                   7.3  \n",
       "3    39990.0    360        160                   7.9  \n",
       "4    55220.0    505        201                   4.4  "
      ]
     },
     "execution_count": 6,
     "metadata": {},
     "output_type": "execute_result"
    }
   ],
   "source": [
    "#Display first 5 row of the dataset\n",
    "data.head()\n"
   ]
  },
  {
   "cell_type": "code",
   "execution_count": 7,
   "id": "ac8127ea",
   "metadata": {},
   "outputs": [
    {
     "data": {
      "text/plain": [
       "Index(['Battery', 'Car_name', 'Car_name_link', 'Efficiency', 'Fast_charge',\n",
       "       'Price.DE.', 'Range', 'Top_speed', 'acceleration..0.100.'],\n",
       "      dtype='object')"
      ]
     },
     "execution_count": 7,
     "metadata": {},
     "output_type": "execute_result"
    }
   ],
   "source": [
    "# Display the all the columns of the dataset\n",
    "data.columns"
   ]
  },
  {
   "cell_type": "code",
   "execution_count": 8,
   "id": "13db3013",
   "metadata": {},
   "outputs": [
    {
     "data": {
      "text/plain": [
       "(360, 9)"
      ]
     },
     "execution_count": 8,
     "metadata": {},
     "output_type": "execute_result"
    }
   ],
   "source": [
    "# Show total number of the rows and columns\n",
    "data.shape"
   ]
  },
  {
   "cell_type": "code",
   "execution_count": 9,
   "id": "7149023e",
   "metadata": {},
   "outputs": [
    {
     "name": "stdout",
     "output_type": "stream",
     "text": [
      "<class 'pandas.core.frame.DataFrame'>\n",
      "RangeIndex: 360 entries, 0 to 359\n",
      "Data columns (total 9 columns):\n",
      " #   Column                Non-Null Count  Dtype  \n",
      "---  ------                --------------  -----  \n",
      " 0   Battery               360 non-null    float64\n",
      " 1   Car_name              360 non-null    object \n",
      " 2   Car_name_link         360 non-null    object \n",
      " 3   Efficiency            360 non-null    int64  \n",
      " 4   Fast_charge           358 non-null    float64\n",
      " 5   Price.DE.             309 non-null    float64\n",
      " 6   Range                 360 non-null    int64  \n",
      " 7   Top_speed             360 non-null    int64  \n",
      " 8   acceleration..0.100.  360 non-null    float64\n",
      "dtypes: float64(4), int64(3), object(2)\n",
      "memory usage: 25.4+ KB\n"
     ]
    }
   ],
   "source": [
    "# Show total number of the rows and columns\n",
    "data.info()"
   ]
  },
  {
   "cell_type": "code",
   "execution_count": 10,
   "id": "6f479540",
   "metadata": {},
   "outputs": [
    {
     "data": {
      "text/html": [
       "<div>\n",
       "<style scoped>\n",
       "    .dataframe tbody tr th:only-of-type {\n",
       "        vertical-align: middle;\n",
       "    }\n",
       "\n",
       "    .dataframe tbody tr th {\n",
       "        vertical-align: top;\n",
       "    }\n",
       "\n",
       "    .dataframe thead th {\n",
       "        text-align: right;\n",
       "    }\n",
       "</style>\n",
       "<table border=\"1\" class=\"dataframe\">\n",
       "  <thead>\n",
       "    <tr style=\"text-align: right;\">\n",
       "      <th></th>\n",
       "      <th>Battery</th>\n",
       "      <th>Car_name</th>\n",
       "      <th>Car_name_link</th>\n",
       "      <th>Efficiency</th>\n",
       "      <th>FastCharge</th>\n",
       "      <th>Price</th>\n",
       "      <th>Range</th>\n",
       "      <th>TopSpeed</th>\n",
       "      <th>AccelerationTime</th>\n",
       "    </tr>\n",
       "  </thead>\n",
       "  <tbody>\n",
       "    <tr>\n",
       "      <th>0</th>\n",
       "      <td>75.0</td>\n",
       "      <td>Tesla Model Y Long Range Dual Motor</td>\n",
       "      <td>https://ev-database.org/car/1619/Tesla-Model-Y...</td>\n",
       "      <td>172</td>\n",
       "      <td>670.0</td>\n",
       "      <td>59017.0</td>\n",
       "      <td>435</td>\n",
       "      <td>217</td>\n",
       "      <td>5.0</td>\n",
       "    </tr>\n",
       "    <tr>\n",
       "      <th>1</th>\n",
       "      <td>57.5</td>\n",
       "      <td>Tesla Model 3</td>\n",
       "      <td>https://ev-database.org/car/1991/Tesla-Model-3</td>\n",
       "      <td>137</td>\n",
       "      <td>700.0</td>\n",
       "      <td>46220.0</td>\n",
       "      <td>420</td>\n",
       "      <td>201</td>\n",
       "      <td>6.1</td>\n",
       "    </tr>\n",
       "    <tr>\n",
       "      <th>2</th>\n",
       "      <td>60.5</td>\n",
       "      <td>BYD ATTO 3</td>\n",
       "      <td>https://ev-database.org/car/1782/BYD-ATTO-3</td>\n",
       "      <td>183</td>\n",
       "      <td>370.0</td>\n",
       "      <td>44625.0</td>\n",
       "      <td>330</td>\n",
       "      <td>160</td>\n",
       "      <td>7.3</td>\n",
       "    </tr>\n",
       "    <tr>\n",
       "      <th>3</th>\n",
       "      <td>61.7</td>\n",
       "      <td>MG MG4 Electric 64 kWh</td>\n",
       "      <td>https://ev-database.org/car/1708/MG-MG4-Electr...</td>\n",
       "      <td>171</td>\n",
       "      <td>630.0</td>\n",
       "      <td>39990.0</td>\n",
       "      <td>360</td>\n",
       "      <td>160</td>\n",
       "      <td>7.9</td>\n",
       "    </tr>\n",
       "    <tr>\n",
       "      <th>4</th>\n",
       "      <td>75.0</td>\n",
       "      <td>Tesla Model 3 Long Range Dual Motor</td>\n",
       "      <td>https://ev-database.org/car/1992/Tesla-Model-3...</td>\n",
       "      <td>149</td>\n",
       "      <td>780.0</td>\n",
       "      <td>55220.0</td>\n",
       "      <td>505</td>\n",
       "      <td>201</td>\n",
       "      <td>4.4</td>\n",
       "    </tr>\n",
       "  </tbody>\n",
       "</table>\n",
       "</div>"
      ],
      "text/plain": [
       "   Battery                             Car_name  \\\n",
       "0     75.0  Tesla Model Y Long Range Dual Motor   \n",
       "1     57.5                        Tesla Model 3   \n",
       "2     60.5                           BYD ATTO 3   \n",
       "3     61.7               MG MG4 Electric 64 kWh   \n",
       "4     75.0  Tesla Model 3 Long Range Dual Motor   \n",
       "\n",
       "                                       Car_name_link  Efficiency  FastCharge  \\\n",
       "0  https://ev-database.org/car/1619/Tesla-Model-Y...         172       670.0   \n",
       "1     https://ev-database.org/car/1991/Tesla-Model-3         137       700.0   \n",
       "2        https://ev-database.org/car/1782/BYD-ATTO-3         183       370.0   \n",
       "3  https://ev-database.org/car/1708/MG-MG4-Electr...         171       630.0   \n",
       "4  https://ev-database.org/car/1992/Tesla-Model-3...         149       780.0   \n",
       "\n",
       "     Price  Range  TopSpeed  AccelerationTime  \n",
       "0  59017.0    435       217               5.0  \n",
       "1  46220.0    420       201               6.1  \n",
       "2  44625.0    330       160               7.3  \n",
       "3  39990.0    360       160               7.9  \n",
       "4  55220.0    505       201               4.4  "
      ]
     },
     "execution_count": 10,
     "metadata": {},
     "output_type": "execute_result"
    }
   ],
   "source": [
    "# Rename the column name for easier manipulation\n",
    "data.rename({'Fast_charge':'FastCharge',\n",
    "             'Price.DE.':'Price',\n",
    "             'Top_speed':'TopSpeed',\n",
    "             'acceleration..0.100.':'AccelerationTime'},axis=1,inplace=True)\n",
    "\n",
    "data.head()"
   ]
  },
  {
   "cell_type": "code",
   "execution_count": 11,
   "id": "a622c7ec",
   "metadata": {
    "scrolled": true
   },
   "outputs": [
    {
     "data": {
      "text/plain": [
       "Battery              0\n",
       "Car_name             0\n",
       "Car_name_link        0\n",
       "Efficiency           0\n",
       "FastCharge           2\n",
       "Price               51\n",
       "Range                0\n",
       "TopSpeed             0\n",
       "AccelerationTime     0\n",
       "dtype: int64"
      ]
     },
     "execution_count": 11,
     "metadata": {},
     "output_type": "execute_result"
    }
   ],
   "source": [
    "# Detect the Missing value\n",
    "data.isnull().sum()"
   ]
  },
  {
   "cell_type": "code",
   "execution_count": 12,
   "id": "4add5af9",
   "metadata": {},
   "outputs": [
    {
     "name": "stdout",
     "output_type": "stream",
     "text": [
      "0      False\n",
      "1      False\n",
      "2      False\n",
      "3      False\n",
      "4      False\n",
      "       ...  \n",
      "355    False\n",
      "356    False\n",
      "357    False\n",
      "358    False\n",
      "359    False\n",
      "Length: 360, dtype: bool\n"
     ]
    }
   ],
   "source": [
    "# Display the duplicate\n",
    "print(data.duplicated())"
   ]
  },
  {
   "cell_type": "code",
   "execution_count": 13,
   "id": "3876fde2",
   "metadata": {},
   "outputs": [
    {
     "data": {
      "text/plain": [
       "array([435, 420, 330, 360, 505, 350, 370, 250, 485, 515, 380, 390, 415,\n",
       "       385, 455, 560, 235, 475, 575, 340, 165, 450, 305, 405, 510, 280,\n",
       "       335, 410, 300, 400, 500, 315, 425, 285, 135, 180, 430, 440, 495,\n",
       "       310, 345, 295, 290, 465, 685, 520, 255, 470, 365, 260, 320, 635,\n",
       "       530, 170, 245, 535, 525, 355, 160, 480, 665, 490, 265, 445, 580,\n",
       "       270, 590, 220, 395, 205, 610, 200, 460, 225, 150, 210, 230, 185],\n",
       "      dtype=int64)"
      ]
     },
     "execution_count": 13,
     "metadata": {},
     "output_type": "execute_result"
    }
   ],
   "source": [
    "# Display the unique value\n",
    "data['Range'].unique()"
   ]
  },
  {
   "cell_type": "code",
   "execution_count": 14,
   "id": "008098e8",
   "metadata": {},
   "outputs": [
    {
     "data": {
      "text/plain": [
       "Car_name\n",
       "Mercedes EQB 300 4MATIC        2\n",
       "Mini Cooper SE                 2\n",
       "Mercedes EQE SUV 500 4MATIC    2\n",
       "Mercedes EQA 300 4MATIC        2\n",
       "Mercedes EQA 250+              2\n",
       "                              ..\n",
       "MG Marvel R                    1\n",
       "Smart #3                       1\n",
       "Fiat 600e                      1\n",
       "BMW iX M60                     1\n",
       "Fiat E-Ulysse L3 50 kWh        1\n",
       "Name: count, Length: 351, dtype: int64"
      ]
     },
     "execution_count": 14,
     "metadata": {},
     "output_type": "execute_result"
    }
   ],
   "source": [
    "\n",
    "#There are some duplicate cars in dataset\n",
    "data.Car_name.value_counts()"
   ]
  },
  {
   "cell_type": "code",
   "execution_count": 15,
   "id": "7a6552ad",
   "metadata": {
    "scrolled": true
   },
   "outputs": [
    {
     "data": {
      "text/html": [
       "<div>\n",
       "<style scoped>\n",
       "    .dataframe tbody tr th:only-of-type {\n",
       "        vertical-align: middle;\n",
       "    }\n",
       "\n",
       "    .dataframe tbody tr th {\n",
       "        vertical-align: top;\n",
       "    }\n",
       "\n",
       "    .dataframe thead th {\n",
       "        text-align: right;\n",
       "    }\n",
       "</style>\n",
       "<table border=\"1\" class=\"dataframe\">\n",
       "  <thead>\n",
       "    <tr style=\"text-align: right;\">\n",
       "      <th></th>\n",
       "      <th>Battery</th>\n",
       "      <th>Car_name</th>\n",
       "      <th>Car_name_link</th>\n",
       "      <th>Efficiency</th>\n",
       "      <th>FastCharge</th>\n",
       "      <th>Price</th>\n",
       "      <th>Range</th>\n",
       "      <th>TopSpeed</th>\n",
       "      <th>AccelerationTime</th>\n",
       "    </tr>\n",
       "  </thead>\n",
       "  <tbody>\n",
       "    <tr>\n",
       "      <th>52</th>\n",
       "      <td>28.9</td>\n",
       "      <td>Mini Cooper SE</td>\n",
       "      <td>https://ev-database.org/car/1409/Mini-Cooper-SE</td>\n",
       "      <td>161</td>\n",
       "      <td>260.0</td>\n",
       "      <td>35700.0</td>\n",
       "      <td>180</td>\n",
       "      <td>150</td>\n",
       "      <td>7.3</td>\n",
       "    </tr>\n",
       "    <tr>\n",
       "      <th>161</th>\n",
       "      <td>49.0</td>\n",
       "      <td>Mini Cooper SE</td>\n",
       "      <td>https://ev-database.org/car/1998/Mini-Cooper-SE</td>\n",
       "      <td>158</td>\n",
       "      <td>440.0</td>\n",
       "      <td>36900.0</td>\n",
       "      <td>310</td>\n",
       "      <td>170</td>\n",
       "      <td>6.7</td>\n",
       "    </tr>\n",
       "  </tbody>\n",
       "</table>\n",
       "</div>"
      ],
      "text/plain": [
       "     Battery        Car_name                                    Car_name_link  \\\n",
       "52      28.9  Mini Cooper SE  https://ev-database.org/car/1409/Mini-Cooper-SE   \n",
       "161     49.0  Mini Cooper SE  https://ev-database.org/car/1998/Mini-Cooper-SE   \n",
       "\n",
       "     Efficiency  FastCharge    Price  Range  TopSpeed  AccelerationTime  \n",
       "52          161       260.0  35700.0    180       150               7.3  \n",
       "161         158       440.0  36900.0    310       170               6.7  "
      ]
     },
     "metadata": {},
     "output_type": "display_data"
    },
    {
     "data": {
      "text/html": [
       "<div>\n",
       "<style scoped>\n",
       "    .dataframe tbody tr th:only-of-type {\n",
       "        vertical-align: middle;\n",
       "    }\n",
       "\n",
       "    .dataframe tbody tr th {\n",
       "        vertical-align: top;\n",
       "    }\n",
       "\n",
       "    .dataframe thead th {\n",
       "        text-align: right;\n",
       "    }\n",
       "</style>\n",
       "<table border=\"1\" class=\"dataframe\">\n",
       "  <thead>\n",
       "    <tr style=\"text-align: right;\">\n",
       "      <th></th>\n",
       "      <th>Battery</th>\n",
       "      <th>Car_name</th>\n",
       "      <th>Car_name_link</th>\n",
       "      <th>Efficiency</th>\n",
       "      <th>FastCharge</th>\n",
       "      <th>Price</th>\n",
       "      <th>Range</th>\n",
       "      <th>TopSpeed</th>\n",
       "      <th>AccelerationTime</th>\n",
       "    </tr>\n",
       "  </thead>\n",
       "  <tbody>\n",
       "    <tr>\n",
       "      <th>111</th>\n",
       "      <td>66.5</td>\n",
       "      <td>Mercedes EQB 300 4MATIC</td>\n",
       "      <td>https://ev-database.org/car/1559/Mercedes-EQB-...</td>\n",
       "      <td>196</td>\n",
       "      <td>490.0</td>\n",
       "      <td>NaN</td>\n",
       "      <td>340</td>\n",
       "      <td>160</td>\n",
       "      <td>8.0</td>\n",
       "    </tr>\n",
       "    <tr>\n",
       "      <th>241</th>\n",
       "      <td>66.5</td>\n",
       "      <td>Mercedes EQB 300 4MATIC</td>\n",
       "      <td>https://ev-database.org/car/1989/Mercedes-EQB-...</td>\n",
       "      <td>193</td>\n",
       "      <td>500.0</td>\n",
       "      <td>55519.0</td>\n",
       "      <td>345</td>\n",
       "      <td>160</td>\n",
       "      <td>8.0</td>\n",
       "    </tr>\n",
       "  </tbody>\n",
       "</table>\n",
       "</div>"
      ],
      "text/plain": [
       "     Battery                 Car_name  \\\n",
       "111     66.5  Mercedes EQB 300 4MATIC   \n",
       "241     66.5  Mercedes EQB 300 4MATIC   \n",
       "\n",
       "                                         Car_name_link  Efficiency  \\\n",
       "111  https://ev-database.org/car/1559/Mercedes-EQB-...         196   \n",
       "241  https://ev-database.org/car/1989/Mercedes-EQB-...         193   \n",
       "\n",
       "     FastCharge    Price  Range  TopSpeed  AccelerationTime  \n",
       "111       490.0      NaN    340       160               8.0  \n",
       "241       500.0  55519.0    345       160               8.0  "
      ]
     },
     "metadata": {},
     "output_type": "display_data"
    },
    {
     "data": {
      "text/html": [
       "<div>\n",
       "<style scoped>\n",
       "    .dataframe tbody tr th:only-of-type {\n",
       "        vertical-align: middle;\n",
       "    }\n",
       "\n",
       "    .dataframe tbody tr th {\n",
       "        vertical-align: top;\n",
       "    }\n",
       "\n",
       "    .dataframe thead th {\n",
       "        text-align: right;\n",
       "    }\n",
       "</style>\n",
       "<table border=\"1\" class=\"dataframe\">\n",
       "  <thead>\n",
       "    <tr style=\"text-align: right;\">\n",
       "      <th></th>\n",
       "      <th>Battery</th>\n",
       "      <th>Car_name</th>\n",
       "      <th>Car_name_link</th>\n",
       "      <th>Efficiency</th>\n",
       "      <th>FastCharge</th>\n",
       "      <th>Price</th>\n",
       "      <th>Range</th>\n",
       "      <th>TopSpeed</th>\n",
       "      <th>AccelerationTime</th>\n",
       "    </tr>\n",
       "  </thead>\n",
       "  <tbody>\n",
       "    <tr>\n",
       "      <th>160</th>\n",
       "      <td>96.0</td>\n",
       "      <td>Mercedes EQE SUV 500 4MATIC</td>\n",
       "      <td>https://ev-database.org/car/2048/Mercedes-EQE-...</td>\n",
       "      <td>211</td>\n",
       "      <td>630.0</td>\n",
       "      <td>99841.0</td>\n",
       "      <td>455</td>\n",
       "      <td>210</td>\n",
       "      <td>4.9</td>\n",
       "    </tr>\n",
       "    <tr>\n",
       "      <th>203</th>\n",
       "      <td>90.6</td>\n",
       "      <td>Mercedes EQE SUV 500 4MATIC</td>\n",
       "      <td>https://ev-database.org/car/1762/Mercedes-EQE-...</td>\n",
       "      <td>208</td>\n",
       "      <td>650.0</td>\n",
       "      <td>NaN</td>\n",
       "      <td>435</td>\n",
       "      <td>210</td>\n",
       "      <td>4.9</td>\n",
       "    </tr>\n",
       "  </tbody>\n",
       "</table>\n",
       "</div>"
      ],
      "text/plain": [
       "     Battery                     Car_name  \\\n",
       "160     96.0  Mercedes EQE SUV 500 4MATIC   \n",
       "203     90.6  Mercedes EQE SUV 500 4MATIC   \n",
       "\n",
       "                                         Car_name_link  Efficiency  \\\n",
       "160  https://ev-database.org/car/2048/Mercedes-EQE-...         211   \n",
       "203  https://ev-database.org/car/1762/Mercedes-EQE-...         208   \n",
       "\n",
       "     FastCharge    Price  Range  TopSpeed  AccelerationTime  \n",
       "160       630.0  99841.0    455       210               4.9  \n",
       "203       650.0      NaN    435       210               4.9  "
      ]
     },
     "metadata": {},
     "output_type": "display_data"
    },
    {
     "data": {
      "text/html": [
       "<div>\n",
       "<style scoped>\n",
       "    .dataframe tbody tr th:only-of-type {\n",
       "        vertical-align: middle;\n",
       "    }\n",
       "\n",
       "    .dataframe tbody tr th {\n",
       "        vertical-align: top;\n",
       "    }\n",
       "\n",
       "    .dataframe thead th {\n",
       "        text-align: right;\n",
       "    }\n",
       "</style>\n",
       "<table border=\"1\" class=\"dataframe\">\n",
       "  <thead>\n",
       "    <tr style=\"text-align: right;\">\n",
       "      <th></th>\n",
       "      <th>Battery</th>\n",
       "      <th>Car_name</th>\n",
       "      <th>Car_name_link</th>\n",
       "      <th>Efficiency</th>\n",
       "      <th>FastCharge</th>\n",
       "      <th>Price</th>\n",
       "      <th>Range</th>\n",
       "      <th>TopSpeed</th>\n",
       "      <th>AccelerationTime</th>\n",
       "    </tr>\n",
       "  </thead>\n",
       "  <tbody>\n",
       "    <tr>\n",
       "      <th>111</th>\n",
       "      <td>66.5</td>\n",
       "      <td>Mercedes EQB 300 4MATIC</td>\n",
       "      <td>https://ev-database.org/car/1559/Mercedes-EQB-...</td>\n",
       "      <td>196</td>\n",
       "      <td>490.0</td>\n",
       "      <td>NaN</td>\n",
       "      <td>340</td>\n",
       "      <td>160</td>\n",
       "      <td>8.0</td>\n",
       "    </tr>\n",
       "    <tr>\n",
       "      <th>241</th>\n",
       "      <td>66.5</td>\n",
       "      <td>Mercedes EQB 300 4MATIC</td>\n",
       "      <td>https://ev-database.org/car/1989/Mercedes-EQB-...</td>\n",
       "      <td>193</td>\n",
       "      <td>500.0</td>\n",
       "      <td>55519.0</td>\n",
       "      <td>345</td>\n",
       "      <td>160</td>\n",
       "      <td>8.0</td>\n",
       "    </tr>\n",
       "  </tbody>\n",
       "</table>\n",
       "</div>"
      ],
      "text/plain": [
       "     Battery                 Car_name  \\\n",
       "111     66.5  Mercedes EQB 300 4MATIC   \n",
       "241     66.5  Mercedes EQB 300 4MATIC   \n",
       "\n",
       "                                         Car_name_link  Efficiency  \\\n",
       "111  https://ev-database.org/car/1559/Mercedes-EQB-...         196   \n",
       "241  https://ev-database.org/car/1989/Mercedes-EQB-...         193   \n",
       "\n",
       "     FastCharge    Price  Range  TopSpeed  AccelerationTime  \n",
       "111       490.0      NaN    340       160               8.0  \n",
       "241       500.0  55519.0    345       160               8.0  "
      ]
     },
     "metadata": {},
     "output_type": "display_data"
    },
    {
     "data": {
      "text/html": [
       "<div>\n",
       "<style scoped>\n",
       "    .dataframe tbody tr th:only-of-type {\n",
       "        vertical-align: middle;\n",
       "    }\n",
       "\n",
       "    .dataframe tbody tr th {\n",
       "        vertical-align: top;\n",
       "    }\n",
       "\n",
       "    .dataframe thead th {\n",
       "        text-align: right;\n",
       "    }\n",
       "</style>\n",
       "<table border=\"1\" class=\"dataframe\">\n",
       "  <thead>\n",
       "    <tr style=\"text-align: right;\">\n",
       "      <th></th>\n",
       "      <th>Battery</th>\n",
       "      <th>Car_name</th>\n",
       "      <th>Car_name_link</th>\n",
       "      <th>Efficiency</th>\n",
       "      <th>FastCharge</th>\n",
       "      <th>Price</th>\n",
       "      <th>Range</th>\n",
       "      <th>TopSpeed</th>\n",
       "      <th>AccelerationTime</th>\n",
       "    </tr>\n",
       "  </thead>\n",
       "  <tbody>\n",
       "    <tr>\n",
       "      <th>201</th>\n",
       "      <td>66.5</td>\n",
       "      <td>Mercedes EQA 300 4MATIC</td>\n",
       "      <td>https://ev-database.org/car/1495/Mercedes-EQA-...</td>\n",
       "      <td>190</td>\n",
       "      <td>500.0</td>\n",
       "      <td>NaN</td>\n",
       "      <td>350</td>\n",
       "      <td>160</td>\n",
       "      <td>7.7</td>\n",
       "    </tr>\n",
       "    <tr>\n",
       "      <th>292</th>\n",
       "      <td>66.5</td>\n",
       "      <td>Mercedes EQA 300 4MATIC</td>\n",
       "      <td>https://ev-database.org/car/1986/Mercedes-EQA-...</td>\n",
       "      <td>187</td>\n",
       "      <td>510.0</td>\n",
       "      <td>53520.0</td>\n",
       "      <td>355</td>\n",
       "      <td>160</td>\n",
       "      <td>7.7</td>\n",
       "    </tr>\n",
       "  </tbody>\n",
       "</table>\n",
       "</div>"
      ],
      "text/plain": [
       "     Battery                 Car_name  \\\n",
       "201     66.5  Mercedes EQA 300 4MATIC   \n",
       "292     66.5  Mercedes EQA 300 4MATIC   \n",
       "\n",
       "                                         Car_name_link  Efficiency  \\\n",
       "201  https://ev-database.org/car/1495/Mercedes-EQA-...         190   \n",
       "292  https://ev-database.org/car/1986/Mercedes-EQA-...         187   \n",
       "\n",
       "     FastCharge    Price  Range  TopSpeed  AccelerationTime  \n",
       "201       500.0      NaN    350       160               7.7  \n",
       "292       510.0  53520.0    355       160               7.7  "
      ]
     },
     "metadata": {},
     "output_type": "display_data"
    }
   ],
   "source": [
    "# Display the duplicate cars\n",
    "display(data[data['Car_name']=='Mini Cooper SE'])\n",
    "display(data[data['Car_name']=='Mercedes EQB 300 4MATIC'])\n",
    "display(data[data['Car_name']=='Mercedes EQE SUV 500 4MATIC'])\n",
    "display(data[data['Car_name']=='Mercedes EQB 300 4MATIC'])\n",
    "display(data[data['Car_name']=='Mercedes EQA 300 4MATIC'])"
   ]
  },
  {
   "cell_type": "code",
   "execution_count": 16,
   "id": "936b3d24",
   "metadata": {
    "scrolled": true
   },
   "outputs": [
    {
     "data": {
      "image/png": "[encoded data removed]",
      "text/plain": [
       "<Figure size 640x480 with 1 Axes>"
      ]
     },
     "metadata": {},
     "output_type": "display_data"
    }
   ],
   "source": [
    "\n",
    "# visualize the distribution of each feature in the dataset\n",
    "# Scatter plot of Battery vs price\n",
    "plt.scatter(data['Battery'], data['Price'])\n",
    "plt.xlabel('Battery')\n",
    "plt.ylabel('Price')\n",
    "plt.title('Relationship between Battery and Price')\n",
    "plt.show()"
   ]
  },
  {
   "cell_type": "code",
   "execution_count": 17,
   "id": "c8597a6a",
   "metadata": {},
   "outputs": [
    {
     "data": {
      "image/png": "[encoded data removed]",
      "text/plain": [
       "<Figure size 640x480 with 1 Axes>"
      ]
     },
     "metadata": {},
     "output_type": "display_data"
    }
   ],
   "source": [
    "# Scatter plot between Efficiency and FastCharge\n",
    "plt.scatter(data['Efficiency'],data['FastCharge'])\n",
    "#plt.xlabel('FastCharge')\n",
    "#plt.ylabel('Efficiency')\n",
    "plt.title('Relationship between Efficiency and FastCharge')\n",
    "plt.show()"
   ]
  },
  {
   "cell_type": "code",
   "execution_count": 18,
   "id": "121d18ea",
   "metadata": {},
   "outputs": [
    {
     "data": {
      "image/png": "[encoded data removed]",
      "text/plain": [
       "<Figure size 640x480 with 1 Axes>"
      ]
     },
     "metadata": {},
     "output_type": "display_data"
    }
   ],
   "source": [
    "# Scatter plot between Battery and range\n",
    "plt.scatter(x=data['Battery'], y=data['Range'])\n",
    "#plt.xlabel=('Battery')\n",
    "#plt.ylabel=('Range')\n",
    "plt.title('Relationship between Battery and Range')\n",
    "plt.show()"
   ]
  },
  {
   "cell_type": "code",
   "execution_count": 19,
   "id": "4dbc485a",
   "metadata": {},
   "outputs": [
    {
     "data": {
      "image/png": "[encoded data removed]",
      "text/plain": [
       "<Figure size 640x480 with 1 Axes>"
      ]
     },
     "metadata": {},
     "output_type": "display_data"
    }
   ],
   "source": [
    "# Scatter plot between FastCharge and range\n",
    "plt.scatter(x=data['FastCharge'], y=data['Range'])\n",
    "#plt.xlabel=('FastCharge')\n",
    "#plt.ylabel=('Range')\n",
    "plt.title('Relationship between FastCharge and Range')\n",
    "plt.show()"
   ]
  },
  {
   "cell_type": "code",
   "execution_count": 20,
   "id": "d42d371b",
   "metadata": {},
   "outputs": [
    {
     "data": {
      "image/png": "[encoded data removed]",
      "text/plain": [
       "<Figure size 640x480 with 1 Axes>"
      ]
     },
     "metadata": {},
     "output_type": "display_data"
    }
   ],
   "source": [
    "# Scatter plot between Top speed and Acceleration \n",
    "plt.scatter(x=data['TopSpeed'], y=data['AccelerationTime'])\n",
    "#plt.xlabel('TopSpeed')\n",
    "#plt.ylabel('AccelerationTime')\n",
    "plt.title('Relationship Between the Top Speed and Acceleration')\n",
    "plt.show()"
   ]
  },
  {
   "cell_type": "code",
   "execution_count": 21,
   "id": "c34a89c1",
   "metadata": {},
   "outputs": [
    {
     "data": {
      "text/plain": [
       "<function matplotlib.pyplot.show(close=None, block=None)>"
      ]
     },
     "execution_count": 21,
     "metadata": {},
     "output_type": "execute_result"
    },
    {
     "data": {
      "image/png": "[encoded data removed]",
      "text/plain": [
       "<Figure size 640x480 with 1 Axes>"
      ]
     },
     "metadata": {},
     "output_type": "display_data"
    }
   ],
   "source": [
    "sns.regplot(x=data['Range'], y=data['Price'])\n",
    "plt.grid(True)\n",
    "plt.title('Linear Regression')\n",
    "plt.show"
   ]
  },
  {
   "cell_type": "code",
   "execution_count": 22,
   "id": "2703d1a0",
   "metadata": {},
   "outputs": [
    {
     "name": "stdout",
     "output_type": "stream",
     "text": [
      "Efficiency\n",
      "257    15\n",
      "190    12\n",
      "171    11\n",
      "169    11\n",
      "168    11\n",
      "       ..\n",
      "161     1\n",
      "189     1\n",
      "152     1\n",
      "243     1\n",
      "293     1\n",
      "Name: count, Length: 92, dtype: int64\n"
     ]
    },
    {
     "data": {
      "image/png": "[encoded data removed]",
      "text/plain": [
       "<Figure size 640x480 with 1 Axes>"
      ]
     },
     "metadata": {},
     "output_type": "display_data"
    }
   ],
   "source": [
    "frequency_table=data['Efficiency'].value_counts()\n",
    "print(frequency_table)\n",
    "\n",
    "#Create a bar plot\n",
    "plt.bar(frequency_table.index, frequency_table.values, edgecolor='black')\n",
    "\n",
    "#Set chat title and axis labels\n",
    "#plt.xlabel('Efficiency')\n",
    "#plt.ylabel('Frequency')\n",
    "plt.title('Efficiency ')\n",
    "\n",
    "#Rotate x axis at 90 degree\n",
    "plt.xticks(rotation=90)\n",
    "plt.show()"
   ]
  },
  {
   "cell_type": "code",
   "execution_count": 23,
   "id": "b84a1082",
   "metadata": {},
   "outputs": [
    {
     "data": {
      "image/png": "[encoded data removed]",
      "text/plain": [
       "<Figure size 640x480 with 1 Axes>"
      ]
     },
     "metadata": {},
     "output_type": "display_data"
    }
   ],
   "source": [
    "# Create a Histogram based on the Price\n",
    "plt.hist(data['Price'], bins=50, edgecolor='black')\n",
    "\n",
    "# Set the plot label and title\n",
    "#plt.xlabel('Price')\n",
    "#plt.ylabel('Frequency')\n",
    "plt.title('Histogram of Car Price ')\n",
    "plt.show()"
   ]
  },
  {
   "cell_type": "code",
   "execution_count": 24,
   "id": "ac9e63bd",
   "metadata": {},
   "outputs": [
    {
     "data": {
      "image/png": "[encoded data removed]",
      "text/plain": [
       "<Figure size 640x480 with 1 Axes>"
      ]
     },
     "metadata": {},
     "output_type": "display_data"
    }
   ],
   "source": [
    "#Display Boxplot\n",
    "sns.boxplot(y=data['Price'])\n",
    "plt.title('Box Plot of Price')\n",
    "plt.show()"
   ]
  },
  {
   "cell_type": "code",
   "execution_count": 25,
   "id": "5be96071",
   "metadata": {},
   "outputs": [
    {
     "data": {
      "image/png": "[encoded data removed]",
      "text/plain": [
       "<Figure size 640x480 with 1 Axes>"
      ]
     },
     "metadata": {},
     "output_type": "display_data"
    }
   ],
   "source": [
    "sns.boxplot(data=data, y='AccelerationTime')\n",
    "plt.xticks(rotation=90)\n",
    "plt.title('Boxplot of Acceleration')\n",
    "plt.show()"
   ]
  },
  {
   "cell_type": "code",
   "execution_count": 26,
   "id": "eefc2943",
   "metadata": {},
   "outputs": [
    {
     "data": {
      "text/html": [
       "<div>\n",
       "<style scoped>\n",
       "    .dataframe tbody tr th:only-of-type {\n",
       "        vertical-align: middle;\n",
       "    }\n",
       "\n",
       "    .dataframe tbody tr th {\n",
       "        vertical-align: top;\n",
       "    }\n",
       "\n",
       "    .dataframe thead th {\n",
       "        text-align: right;\n",
       "    }\n",
       "</style>\n",
       "<table border=\"1\" class=\"dataframe\">\n",
       "  <thead>\n",
       "    <tr style=\"text-align: right;\">\n",
       "      <th></th>\n",
       "      <th>Battery</th>\n",
       "      <th>Efficiency</th>\n",
       "      <th>FastCharge</th>\n",
       "      <th>Price</th>\n",
       "      <th>Range</th>\n",
       "      <th>TopSpeed</th>\n",
       "      <th>AccelerationTime</th>\n",
       "    </tr>\n",
       "  </thead>\n",
       "  <tbody>\n",
       "    <tr>\n",
       "      <th>Battery</th>\n",
       "      <td>1.000000</td>\n",
       "      <td>0.177427</td>\n",
       "      <td>0.597290</td>\n",
       "      <td>0.704391</td>\n",
       "      <td>0.881937</td>\n",
       "      <td>0.698193</td>\n",
       "      <td>-0.610164</td>\n",
       "    </tr>\n",
       "    <tr>\n",
       "      <th>Efficiency</th>\n",
       "      <td>0.177427</td>\n",
       "      <td>1.000000</td>\n",
       "      <td>-0.280822</td>\n",
       "      <td>0.179422</td>\n",
       "      <td>-0.282097</td>\n",
       "      <td>-0.176437</td>\n",
       "      <td>0.389531</td>\n",
       "    </tr>\n",
       "    <tr>\n",
       "      <th>FastCharge</th>\n",
       "      <td>0.597290</td>\n",
       "      <td>-0.280822</td>\n",
       "      <td>1.000000</td>\n",
       "      <td>0.618951</td>\n",
       "      <td>0.720674</td>\n",
       "      <td>0.775925</td>\n",
       "      <td>-0.671587</td>\n",
       "    </tr>\n",
       "    <tr>\n",
       "      <th>Price</th>\n",
       "      <td>0.704391</td>\n",
       "      <td>0.179422</td>\n",
       "      <td>0.618951</td>\n",
       "      <td>1.000000</td>\n",
       "      <td>0.594143</td>\n",
       "      <td>0.762891</td>\n",
       "      <td>-0.537712</td>\n",
       "    </tr>\n",
       "    <tr>\n",
       "      <th>Range</th>\n",
       "      <td>0.881937</td>\n",
       "      <td>-0.282097</td>\n",
       "      <td>0.720674</td>\n",
       "      <td>0.594143</td>\n",
       "      <td>1.000000</td>\n",
       "      <td>0.744192</td>\n",
       "      <td>-0.744583</td>\n",
       "    </tr>\n",
       "    <tr>\n",
       "      <th>TopSpeed</th>\n",
       "      <td>0.698193</td>\n",
       "      <td>-0.176437</td>\n",
       "      <td>0.775925</td>\n",
       "      <td>0.762891</td>\n",
       "      <td>0.744192</td>\n",
       "      <td>1.000000</td>\n",
       "      <td>-0.839394</td>\n",
       "    </tr>\n",
       "    <tr>\n",
       "      <th>AccelerationTime</th>\n",
       "      <td>-0.610164</td>\n",
       "      <td>0.389531</td>\n",
       "      <td>-0.671587</td>\n",
       "      <td>-0.537712</td>\n",
       "      <td>-0.744583</td>\n",
       "      <td>-0.839394</td>\n",
       "      <td>1.000000</td>\n",
       "    </tr>\n",
       "  </tbody>\n",
       "</table>\n",
       "</div>"
      ],
      "text/plain": [
       "                   Battery  Efficiency  FastCharge     Price     Range  \\\n",
       "Battery           1.000000    0.177427    0.597290  0.704391  0.881937   \n",
       "Efficiency        0.177427    1.000000   -0.280822  0.179422 -0.282097   \n",
       "FastCharge        0.597290   -0.280822    1.000000  0.618951  0.720674   \n",
       "Price             0.704391    0.179422    0.618951  1.000000  0.594143   \n",
       "Range             0.881937   -0.282097    0.720674  0.594143  1.000000   \n",
       "TopSpeed          0.698193   -0.176437    0.775925  0.762891  0.744192   \n",
       "AccelerationTime -0.610164    0.389531   -0.671587 -0.537712 -0.744583   \n",
       "\n",
       "                  TopSpeed  AccelerationTime  \n",
       "Battery           0.698193         -0.610164  \n",
       "Efficiency       -0.176437          0.389531  \n",
       "FastCharge        0.775925         -0.671587  \n",
       "Price             0.762891         -0.537712  \n",
       "Range             0.744192         -0.744583  \n",
       "TopSpeed          1.000000         -0.839394  \n",
       "AccelerationTime -0.839394          1.000000  "
      ]
     },
     "execution_count": 26,
     "metadata": {},
     "output_type": "execute_result"
    }
   ],
   "source": [
    "data.corr(numeric_only=True)"
   ]
  },
  {
   "cell_type": "code",
   "execution_count": 27,
   "id": "66f93753",
   "metadata": {},
   "outputs": [
    {
     "data": {
      "text/plain": [
       "<function matplotlib.pyplot.show(close=None, block=None)>"
      ]
     },
     "execution_count": 27,
     "metadata": {},
     "output_type": "execute_result"
    },
    {
     "data": {
      "image/png": "[encoded data removed]",
      "text/plain": [
       "<Figure size 640x480 with 2 Axes>"
      ]
     },
     "metadata": {},
     "output_type": "display_data"
    }
   ],
   "source": [
    "# plot Heatmap\n",
    "sns.heatmap(data.corr(numeric_only=True), annot=True)\n",
    "plt.show"
   ]
  },
  {
   "cell_type": "code",
   "execution_count": 28,
   "id": "f1a93479",
   "metadata": {},
   "outputs": [
    {
     "data": {
      "text/html": [
       "<div>\n",
       "<style scoped>\n",
       "    .dataframe tbody tr th:only-of-type {\n",
       "        vertical-align: middle;\n",
       "    }\n",
       "\n",
       "    .dataframe tbody tr th {\n",
       "        vertical-align: top;\n",
       "    }\n",
       "\n",
       "    .dataframe thead th {\n",
       "        text-align: right;\n",
       "    }\n",
       "</style>\n",
       "<table border=\"1\" class=\"dataframe\">\n",
       "  <thead>\n",
       "    <tr style=\"text-align: right;\">\n",
       "      <th></th>\n",
       "      <th>Battery</th>\n",
       "      <th>Efficiency</th>\n",
       "      <th>FastCharge</th>\n",
       "      <th>Price</th>\n",
       "      <th>Range</th>\n",
       "      <th>TopSpeed</th>\n",
       "      <th>AccelerationTime</th>\n",
       "    </tr>\n",
       "  </thead>\n",
       "  <tbody>\n",
       "    <tr>\n",
       "      <th>Battery</th>\n",
       "      <td>1.000000</td>\n",
       "      <td>0.222183</td>\n",
       "      <td>0.488655</td>\n",
       "      <td>0.653436</td>\n",
       "      <td>0.724466</td>\n",
       "      <td>0.575775</td>\n",
       "      <td>-0.478964</td>\n",
       "    </tr>\n",
       "    <tr>\n",
       "      <th>Efficiency</th>\n",
       "      <td>0.222183</td>\n",
       "      <td>1.000000</td>\n",
       "      <td>-0.120782</td>\n",
       "      <td>0.318228</td>\n",
       "      <td>-0.069771</td>\n",
       "      <td>0.021350</td>\n",
       "      <td>0.002011</td>\n",
       "    </tr>\n",
       "    <tr>\n",
       "      <th>FastCharge</th>\n",
       "      <td>0.488655</td>\n",
       "      <td>-0.120782</td>\n",
       "      <td>1.000000</td>\n",
       "      <td>0.422015</td>\n",
       "      <td>0.622775</td>\n",
       "      <td>0.632250</td>\n",
       "      <td>-0.525374</td>\n",
       "    </tr>\n",
       "    <tr>\n",
       "      <th>Price</th>\n",
       "      <td>0.653436</td>\n",
       "      <td>0.318228</td>\n",
       "      <td>0.422015</td>\n",
       "      <td>1.000000</td>\n",
       "      <td>0.469803</td>\n",
       "      <td>0.533362</td>\n",
       "      <td>-0.438738</td>\n",
       "    </tr>\n",
       "    <tr>\n",
       "      <th>Range</th>\n",
       "      <td>0.724466</td>\n",
       "      <td>-0.069771</td>\n",
       "      <td>0.622775</td>\n",
       "      <td>0.469803</td>\n",
       "      <td>1.000000</td>\n",
       "      <td>0.619990</td>\n",
       "      <td>-0.531290</td>\n",
       "    </tr>\n",
       "    <tr>\n",
       "      <th>TopSpeed</th>\n",
       "      <td>0.575775</td>\n",
       "      <td>0.021350</td>\n",
       "      <td>0.632250</td>\n",
       "      <td>0.533362</td>\n",
       "      <td>0.619990</td>\n",
       "      <td>1.000000</td>\n",
       "      <td>-0.730297</td>\n",
       "    </tr>\n",
       "    <tr>\n",
       "      <th>AccelerationTime</th>\n",
       "      <td>-0.478964</td>\n",
       "      <td>0.002011</td>\n",
       "      <td>-0.525374</td>\n",
       "      <td>-0.438738</td>\n",
       "      <td>-0.531290</td>\n",
       "      <td>-0.730297</td>\n",
       "      <td>1.000000</td>\n",
       "    </tr>\n",
       "  </tbody>\n",
       "</table>\n",
       "</div>"
      ],
      "text/plain": [
       "                   Battery  Efficiency  FastCharge     Price     Range  \\\n",
       "Battery           1.000000    0.222183    0.488655  0.653436  0.724466   \n",
       "Efficiency        0.222183    1.000000   -0.120782  0.318228 -0.069771   \n",
       "FastCharge        0.488655   -0.120782    1.000000  0.422015  0.622775   \n",
       "Price             0.653436    0.318228    0.422015  1.000000  0.469803   \n",
       "Range             0.724466   -0.069771    0.622775  0.469803  1.000000   \n",
       "TopSpeed          0.575775    0.021350    0.632250  0.533362  0.619990   \n",
       "AccelerationTime -0.478964    0.002011   -0.525374 -0.438738 -0.531290   \n",
       "\n",
       "                  TopSpeed  AccelerationTime  \n",
       "Battery           0.575775         -0.478964  \n",
       "Efficiency        0.021350          0.002011  \n",
       "FastCharge        0.632250         -0.525374  \n",
       "Price             0.533362         -0.438738  \n",
       "Range             0.619990         -0.531290  \n",
       "TopSpeed          1.000000         -0.730297  \n",
       "AccelerationTime -0.730297          1.000000  "
      ]
     },
     "execution_count": 28,
     "metadata": {},
     "output_type": "execute_result"
    }
   ],
   "source": [
    " #Measure Strenth of depedence between two variable\n",
    "data.corr(method='kendall',numeric_only=True)"
   ]
  },
  {
   "cell_type": "code",
   "execution_count": 29,
   "id": "a6c3e629",
   "metadata": {},
   "outputs": [
    {
     "data": {
      "text/html": [
       "<div>\n",
       "<style scoped>\n",
       "    .dataframe tbody tr th:only-of-type {\n",
       "        vertical-align: middle;\n",
       "    }\n",
       "\n",
       "    .dataframe tbody tr th {\n",
       "        vertical-align: top;\n",
       "    }\n",
       "\n",
       "    .dataframe thead th {\n",
       "        text-align: right;\n",
       "    }\n",
       "</style>\n",
       "<table border=\"1\" class=\"dataframe\">\n",
       "  <thead>\n",
       "    <tr style=\"text-align: right;\">\n",
       "      <th></th>\n",
       "      <th>Battery</th>\n",
       "      <th>Efficiency</th>\n",
       "      <th>FastCharge</th>\n",
       "      <th>Price</th>\n",
       "      <th>Range</th>\n",
       "      <th>TopSpeed</th>\n",
       "      <th>AccelerationTime</th>\n",
       "    </tr>\n",
       "  </thead>\n",
       "  <tbody>\n",
       "    <tr>\n",
       "      <th>Battery</th>\n",
       "      <td>1.000000</td>\n",
       "      <td>0.177427</td>\n",
       "      <td>0.597290</td>\n",
       "      <td>0.704391</td>\n",
       "      <td>0.881937</td>\n",
       "      <td>0.698193</td>\n",
       "      <td>-0.610164</td>\n",
       "    </tr>\n",
       "    <tr>\n",
       "      <th>Efficiency</th>\n",
       "      <td>0.177427</td>\n",
       "      <td>1.000000</td>\n",
       "      <td>-0.280822</td>\n",
       "      <td>0.179422</td>\n",
       "      <td>-0.282097</td>\n",
       "      <td>-0.176437</td>\n",
       "      <td>0.389531</td>\n",
       "    </tr>\n",
       "    <tr>\n",
       "      <th>FastCharge</th>\n",
       "      <td>0.597290</td>\n",
       "      <td>-0.280822</td>\n",
       "      <td>1.000000</td>\n",
       "      <td>0.618951</td>\n",
       "      <td>0.720674</td>\n",
       "      <td>0.775925</td>\n",
       "      <td>-0.671587</td>\n",
       "    </tr>\n",
       "    <tr>\n",
       "      <th>Price</th>\n",
       "      <td>0.704391</td>\n",
       "      <td>0.179422</td>\n",
       "      <td>0.618951</td>\n",
       "      <td>1.000000</td>\n",
       "      <td>0.594143</td>\n",
       "      <td>0.762891</td>\n",
       "      <td>-0.537712</td>\n",
       "    </tr>\n",
       "    <tr>\n",
       "      <th>Range</th>\n",
       "      <td>0.881937</td>\n",
       "      <td>-0.282097</td>\n",
       "      <td>0.720674</td>\n",
       "      <td>0.594143</td>\n",
       "      <td>1.000000</td>\n",
       "      <td>0.744192</td>\n",
       "      <td>-0.744583</td>\n",
       "    </tr>\n",
       "    <tr>\n",
       "      <th>TopSpeed</th>\n",
       "      <td>0.698193</td>\n",
       "      <td>-0.176437</td>\n",
       "      <td>0.775925</td>\n",
       "      <td>0.762891</td>\n",
       "      <td>0.744192</td>\n",
       "      <td>1.000000</td>\n",
       "      <td>-0.839394</td>\n",
       "    </tr>\n",
       "    <tr>\n",
       "      <th>AccelerationTime</th>\n",
       "      <td>-0.610164</td>\n",
       "      <td>0.389531</td>\n",
       "      <td>-0.671587</td>\n",
       "      <td>-0.537712</td>\n",
       "      <td>-0.744583</td>\n",
       "      <td>-0.839394</td>\n",
       "      <td>1.000000</td>\n",
       "    </tr>\n",
       "  </tbody>\n",
       "</table>\n",
       "</div>"
      ],
      "text/plain": [
       "                   Battery  Efficiency  FastCharge     Price     Range  \\\n",
       "Battery           1.000000    0.177427    0.597290  0.704391  0.881937   \n",
       "Efficiency        0.177427    1.000000   -0.280822  0.179422 -0.282097   \n",
       "FastCharge        0.597290   -0.280822    1.000000  0.618951  0.720674   \n",
       "Price             0.704391    0.179422    0.618951  1.000000  0.594143   \n",
       "Range             0.881937   -0.282097    0.720674  0.594143  1.000000   \n",
       "TopSpeed          0.698193   -0.176437    0.775925  0.762891  0.744192   \n",
       "AccelerationTime -0.610164    0.389531   -0.671587 -0.537712 -0.744583   \n",
       "\n",
       "                  TopSpeed  AccelerationTime  \n",
       "Battery           0.698193         -0.610164  \n",
       "Efficiency       -0.176437          0.389531  \n",
       "FastCharge        0.775925         -0.671587  \n",
       "Price             0.762891         -0.537712  \n",
       "Range             0.744192         -0.744583  \n",
       "TopSpeed          1.000000         -0.839394  \n",
       "AccelerationTime -0.839394          1.000000  "
      ]
     },
     "execution_count": 29,
     "metadata": {},
     "output_type": "execute_result"
    }
   ],
   "source": [
    "# Measure the Strength of the linear relationship between two variables\n",
    "data.corr(method='pearson',numeric_only=True)"
   ]
  },
  {
   "cell_type": "code",
   "execution_count": 30,
   "id": "65b1b04c",
   "metadata": {},
   "outputs": [
    {
     "name": "stdout",
     "output_type": "stream",
     "text": [
      "<class 'pandas.core.frame.DataFrame'>\n",
      "RangeIndex: 360 entries, 0 to 359\n",
      "Data columns (total 9 columns):\n",
      " #   Column            Non-Null Count  Dtype  \n",
      "---  ------            --------------  -----  \n",
      " 0   Battery           360 non-null    float64\n",
      " 1   Car_name          360 non-null    object \n",
      " 2   Car_name_link     360 non-null    object \n",
      " 3   Efficiency        360 non-null    int64  \n",
      " 4   FastCharge        358 non-null    float64\n",
      " 5   Price             309 non-null    float64\n",
      " 6   Range             360 non-null    int64  \n",
      " 7   TopSpeed          360 non-null    int64  \n",
      " 8   AccelerationTime  360 non-null    float64\n",
      "dtypes: float64(4), int64(3), object(2)\n",
      "memory usage: 25.4+ KB\n"
     ]
    }
   ],
   "source": [
    "data.info()"
   ]
  },
  {
   "cell_type": "code",
   "execution_count": 31,
   "id": "dfba8281",
   "metadata": {},
   "outputs": [
    {
     "data": {
      "text/html": [
       "<div>\n",
       "<style scoped>\n",
       "    .dataframe tbody tr th:only-of-type {\n",
       "        vertical-align: middle;\n",
       "    }\n",
       "\n",
       "    .dataframe tbody tr th {\n",
       "        vertical-align: top;\n",
       "    }\n",
       "\n",
       "    .dataframe thead th {\n",
       "        text-align: right;\n",
       "    }\n",
       "</style>\n",
       "<table border=\"1\" class=\"dataframe\">\n",
       "  <thead>\n",
       "    <tr style=\"text-align: right;\">\n",
       "      <th></th>\n",
       "      <th>Battery</th>\n",
       "      <th>Car_name_link</th>\n",
       "      <th>Efficiency</th>\n",
       "      <th>FastCharge</th>\n",
       "      <th>Price</th>\n",
       "      <th>Range</th>\n",
       "      <th>TopSpeed</th>\n",
       "      <th>AccelerationTime</th>\n",
       "    </tr>\n",
       "  </thead>\n",
       "  <tbody>\n",
       "    <tr>\n",
       "      <th>0</th>\n",
       "      <td>75.0</td>\n",
       "      <td>https://ev-database.org/car/1619/Tesla-Model-Y...</td>\n",
       "      <td>172</td>\n",
       "      <td>670.0</td>\n",
       "      <td>59017.0</td>\n",
       "      <td>435</td>\n",
       "      <td>217</td>\n",
       "      <td>5.0</td>\n",
       "    </tr>\n",
       "    <tr>\n",
       "      <th>1</th>\n",
       "      <td>57.5</td>\n",
       "      <td>https://ev-database.org/car/1991/Tesla-Model-3</td>\n",
       "      <td>137</td>\n",
       "      <td>700.0</td>\n",
       "      <td>46220.0</td>\n",
       "      <td>420</td>\n",
       "      <td>201</td>\n",
       "      <td>6.1</td>\n",
       "    </tr>\n",
       "    <tr>\n",
       "      <th>2</th>\n",
       "      <td>60.5</td>\n",
       "      <td>https://ev-database.org/car/1782/BYD-ATTO-3</td>\n",
       "      <td>183</td>\n",
       "      <td>370.0</td>\n",
       "      <td>44625.0</td>\n",
       "      <td>330</td>\n",
       "      <td>160</td>\n",
       "      <td>7.3</td>\n",
       "    </tr>\n",
       "    <tr>\n",
       "      <th>3</th>\n",
       "      <td>61.7</td>\n",
       "      <td>https://ev-database.org/car/1708/MG-MG4-Electr...</td>\n",
       "      <td>171</td>\n",
       "      <td>630.0</td>\n",
       "      <td>39990.0</td>\n",
       "      <td>360</td>\n",
       "      <td>160</td>\n",
       "      <td>7.9</td>\n",
       "    </tr>\n",
       "    <tr>\n",
       "      <th>4</th>\n",
       "      <td>75.0</td>\n",
       "      <td>https://ev-database.org/car/1992/Tesla-Model-3...</td>\n",
       "      <td>149</td>\n",
       "      <td>780.0</td>\n",
       "      <td>55220.0</td>\n",
       "      <td>505</td>\n",
       "      <td>201</td>\n",
       "      <td>4.4</td>\n",
       "    </tr>\n",
       "  </tbody>\n",
       "</table>\n",
       "</div>"
      ],
      "text/plain": [
       "   Battery                                      Car_name_link  Efficiency  \\\n",
       "0     75.0  https://ev-database.org/car/1619/Tesla-Model-Y...         172   \n",
       "1     57.5     https://ev-database.org/car/1991/Tesla-Model-3         137   \n",
       "2     60.5        https://ev-database.org/car/1782/BYD-ATTO-3         183   \n",
       "3     61.7  https://ev-database.org/car/1708/MG-MG4-Electr...         171   \n",
       "4     75.0  https://ev-database.org/car/1992/Tesla-Model-3...         149   \n",
       "\n",
       "   FastCharge    Price  Range  TopSpeed  AccelerationTime  \n",
       "0       670.0  59017.0    435       217               5.0  \n",
       "1       700.0  46220.0    420       201               6.1  \n",
       "2       370.0  44625.0    330       160               7.3  \n",
       "3       630.0  39990.0    360       160               7.9  \n",
       "4       780.0  55220.0    505       201               4.4  "
      ]
     },
     "execution_count": 31,
     "metadata": {},
     "output_type": "execute_result"
    }
   ],
   "source": [
    "data.drop(columns=['Car_name'],inplace=True)\n",
    "data.head()"
   ]
  },
  {
   "cell_type": "code",
   "execution_count": 32,
   "id": "790e34ef",
   "metadata": {},
   "outputs": [
    {
     "data": {
      "text/html": [
       "<div>\n",
       "<style scoped>\n",
       "    .dataframe tbody tr th:only-of-type {\n",
       "        vertical-align: middle;\n",
       "    }\n",
       "\n",
       "    .dataframe tbody tr th {\n",
       "        vertical-align: top;\n",
       "    }\n",
       "\n",
       "    .dataframe thead th {\n",
       "        text-align: right;\n",
       "    }\n",
       "</style>\n",
       "<table border=\"1\" class=\"dataframe\">\n",
       "  <thead>\n",
       "    <tr style=\"text-align: right;\">\n",
       "      <th></th>\n",
       "      <th>Battery</th>\n",
       "      <th>Efficiency</th>\n",
       "      <th>FastCharge</th>\n",
       "      <th>Price</th>\n",
       "      <th>Range</th>\n",
       "      <th>TopSpeed</th>\n",
       "      <th>AccelerationTime</th>\n",
       "    </tr>\n",
       "  </thead>\n",
       "  <tbody>\n",
       "    <tr>\n",
       "      <th>0</th>\n",
       "      <td>75.0</td>\n",
       "      <td>172</td>\n",
       "      <td>670.0</td>\n",
       "      <td>59017.0</td>\n",
       "      <td>435</td>\n",
       "      <td>217</td>\n",
       "      <td>5.0</td>\n",
       "    </tr>\n",
       "    <tr>\n",
       "      <th>1</th>\n",
       "      <td>57.5</td>\n",
       "      <td>137</td>\n",
       "      <td>700.0</td>\n",
       "      <td>46220.0</td>\n",
       "      <td>420</td>\n",
       "      <td>201</td>\n",
       "      <td>6.1</td>\n",
       "    </tr>\n",
       "    <tr>\n",
       "      <th>2</th>\n",
       "      <td>60.5</td>\n",
       "      <td>183</td>\n",
       "      <td>370.0</td>\n",
       "      <td>44625.0</td>\n",
       "      <td>330</td>\n",
       "      <td>160</td>\n",
       "      <td>7.3</td>\n",
       "    </tr>\n",
       "    <tr>\n",
       "      <th>3</th>\n",
       "      <td>61.7</td>\n",
       "      <td>171</td>\n",
       "      <td>630.0</td>\n",
       "      <td>39990.0</td>\n",
       "      <td>360</td>\n",
       "      <td>160</td>\n",
       "      <td>7.9</td>\n",
       "    </tr>\n",
       "    <tr>\n",
       "      <th>4</th>\n",
       "      <td>75.0</td>\n",
       "      <td>149</td>\n",
       "      <td>780.0</td>\n",
       "      <td>55220.0</td>\n",
       "      <td>505</td>\n",
       "      <td>201</td>\n",
       "      <td>4.4</td>\n",
       "    </tr>\n",
       "  </tbody>\n",
       "</table>\n",
       "</div>"
      ],
      "text/plain": [
       "   Battery  Efficiency  FastCharge    Price  Range  TopSpeed  AccelerationTime\n",
       "0     75.0         172       670.0  59017.0    435       217               5.0\n",
       "1     57.5         137       700.0  46220.0    420       201               6.1\n",
       "2     60.5         183       370.0  44625.0    330       160               7.3\n",
       "3     61.7         171       630.0  39990.0    360       160               7.9\n",
       "4     75.0         149       780.0  55220.0    505       201               4.4"
      ]
     },
     "execution_count": 32,
     "metadata": {},
     "output_type": "execute_result"
    }
   ],
   "source": [
    "data.drop(columns=['Car_name_link'],inplace=True)\n",
    "data.head()"
   ]
  },
  {
   "cell_type": "code",
   "execution_count": 33,
   "id": "07f8a966",
   "metadata": {},
   "outputs": [],
   "source": [
    "# It remove all the NaN value\n",
    "data.dropna(how=\"any\", inplace=True)        "
   ]
  },
  {
   "cell_type": "code",
   "execution_count": 34,
   "id": "ac06ccc9",
   "metadata": {},
   "outputs": [
    {
     "data": {
      "text/html": [
       "<div>\n",
       "<style scoped>\n",
       "    .dataframe tbody tr th:only-of-type {\n",
       "        vertical-align: middle;\n",
       "    }\n",
       "\n",
       "    .dataframe tbody tr th {\n",
       "        vertical-align: top;\n",
       "    }\n",
       "\n",
       "    .dataframe thead th {\n",
       "        text-align: right;\n",
       "    }\n",
       "</style>\n",
       "<table border=\"1\" class=\"dataframe\">\n",
       "  <thead>\n",
       "    <tr style=\"text-align: right;\">\n",
       "      <th></th>\n",
       "      <th>Battery</th>\n",
       "      <th>Efficiency</th>\n",
       "      <th>FastCharge</th>\n",
       "      <th>Price</th>\n",
       "      <th>Range</th>\n",
       "      <th>TopSpeed</th>\n",
       "      <th>AccelerationTime</th>\n",
       "    </tr>\n",
       "  </thead>\n",
       "  <tbody>\n",
       "    <tr>\n",
       "      <th>count</th>\n",
       "      <td>307.000000</td>\n",
       "      <td>307.000000</td>\n",
       "      <td>307.000000</td>\n",
       "      <td>307.000000</td>\n",
       "      <td>307.000000</td>\n",
       "      <td>307.000000</td>\n",
       "      <td>307.000000</td>\n",
       "    </tr>\n",
       "    <tr>\n",
       "      <th>mean</th>\n",
       "      <td>71.386319</td>\n",
       "      <td>195.586319</td>\n",
       "      <td>552.833876</td>\n",
       "      <td>67529.882736</td>\n",
       "      <td>370.602606</td>\n",
       "      <td>181.429967</td>\n",
       "      <td>7.275896</td>\n",
       "    </tr>\n",
       "    <tr>\n",
       "      <th>std</th>\n",
       "      <td>20.363656</td>\n",
       "      <td>32.672692</td>\n",
       "      <td>240.318651</td>\n",
       "      <td>34462.344923</td>\n",
       "      <td>107.870255</td>\n",
       "      <td>36.479166</td>\n",
       "      <td>3.087695</td>\n",
       "    </tr>\n",
       "    <tr>\n",
       "      <th>min</th>\n",
       "      <td>21.300000</td>\n",
       "      <td>137.000000</td>\n",
       "      <td>170.000000</td>\n",
       "      <td>22550.000000</td>\n",
       "      <td>135.000000</td>\n",
       "      <td>125.000000</td>\n",
       "      <td>2.100000</td>\n",
       "    </tr>\n",
       "    <tr>\n",
       "      <th>25%</th>\n",
       "      <td>57.500000</td>\n",
       "      <td>171.000000</td>\n",
       "      <td>335.000000</td>\n",
       "      <td>45867.500000</td>\n",
       "      <td>297.500000</td>\n",
       "      <td>155.000000</td>\n",
       "      <td>4.800000</td>\n",
       "    </tr>\n",
       "    <tr>\n",
       "      <th>50%</th>\n",
       "      <td>70.500000</td>\n",
       "      <td>188.000000</td>\n",
       "      <td>520.000000</td>\n",
       "      <td>56950.000000</td>\n",
       "      <td>380.000000</td>\n",
       "      <td>180.000000</td>\n",
       "      <td>6.700000</td>\n",
       "    </tr>\n",
       "    <tr>\n",
       "      <th>75%</th>\n",
       "      <td>85.000000</td>\n",
       "      <td>209.500000</td>\n",
       "      <td>680.000000</td>\n",
       "      <td>73624.500000</td>\n",
       "      <td>447.500000</td>\n",
       "      <td>200.500000</td>\n",
       "      <td>9.000000</td>\n",
       "    </tr>\n",
       "    <tr>\n",
       "      <th>max</th>\n",
       "      <td>123.000000</td>\n",
       "      <td>295.000000</td>\n",
       "      <td>1290.000000</td>\n",
       "      <td>218000.000000</td>\n",
       "      <td>685.000000</td>\n",
       "      <td>282.000000</td>\n",
       "      <td>19.100000</td>\n",
       "    </tr>\n",
       "  </tbody>\n",
       "</table>\n",
       "</div>"
      ],
      "text/plain": [
       "          Battery  Efficiency   FastCharge          Price       Range  \\\n",
       "count  307.000000  307.000000   307.000000     307.000000  307.000000   \n",
       "mean    71.386319  195.586319   552.833876   67529.882736  370.602606   \n",
       "std     20.363656   32.672692   240.318651   34462.344923  107.870255   \n",
       "min     21.300000  137.000000   170.000000   22550.000000  135.000000   \n",
       "25%     57.500000  171.000000   335.000000   45867.500000  297.500000   \n",
       "50%     70.500000  188.000000   520.000000   56950.000000  380.000000   \n",
       "75%     85.000000  209.500000   680.000000   73624.500000  447.500000   \n",
       "max    123.000000  295.000000  1290.000000  218000.000000  685.000000   \n",
       "\n",
       "         TopSpeed  AccelerationTime  \n",
       "count  307.000000        307.000000  \n",
       "mean   181.429967          7.275896  \n",
       "std     36.479166          3.087695  \n",
       "min    125.000000          2.100000  \n",
       "25%    155.000000          4.800000  \n",
       "50%    180.000000          6.700000  \n",
       "75%    200.500000          9.000000  \n",
       "max    282.000000         19.100000  "
      ]
     },
     "execution_count": 34,
     "metadata": {},
     "output_type": "execute_result"
    }
   ],
   "source": [
    "data.describe()"
   ]
  },
  {
   "cell_type": "code",
   "execution_count": 38,
   "id": "96e69100",
   "metadata": {},
   "outputs": [
    {
     "data": {
      "text/plain": [
       "Index(['Battery', 'Efficiency', 'FastCharge', 'Price', 'Range', 'TopSpeed',\n",
       "       'AccelerationTime'],\n",
       "      dtype='object')"
      ]
     },
     "execution_count": 38,
     "metadata": {},
     "output_type": "execute_result"
    }
   ],
   "source": [
    "#Display the columns of data.\n",
    "data.columns"
   ]
  },
  {
   "cell_type": "code",
   "execution_count": 42,
   "id": "b921de50",
   "metadata": {},
   "outputs": [],
   "source": [
    "#Independent variable\n",
    "numerical_columns=['Battery','Efficiency','FastCharge','Range','TopSpeed','AccelerationTime']\n",
    "x=data[numerical_columns]\n",
    "\n",
    "#Dependent variable\n",
    "y=data['Price']"
   ]
  },
  {
   "cell_type": "code",
   "execution_count": 40,
   "id": "8ccb25fd",
   "metadata": {},
   "outputs": [],
   "source": [
    "#Split the data into training and testing sets\n",
    "x_train, x_test, y_train, y_test=train_test_split(x,y, test_size=0.2, random_state=10)"
   ]
  },
  {
   "cell_type": "code",
   "execution_count": 41,
   "id": "3f2f9ced",
   "metadata": {},
   "outputs": [
    {
     "data": {
      "text/html": [
       "<div>\n",
       "<style scoped>\n",
       "    .dataframe tbody tr th:only-of-type {\n",
       "        vertical-align: middle;\n",
       "    }\n",
       "\n",
       "    .dataframe tbody tr th {\n",
       "        vertical-align: top;\n",
       "    }\n",
       "\n",
       "    .dataframe thead th {\n",
       "        text-align: right;\n",
       "    }\n",
       "</style>\n",
       "<table border=\"1\" class=\"dataframe\">\n",
       "  <thead>\n",
       "    <tr style=\"text-align: right;\">\n",
       "      <th></th>\n",
       "      <th>Battery</th>\n",
       "      <th>Efficiency</th>\n",
       "      <th>FastCharge</th>\n",
       "      <th>Range</th>\n",
       "      <th>TopSpeed</th>\n",
       "      <th>AccelerationTime</th>\n",
       "    </tr>\n",
       "  </thead>\n",
       "  <tbody>\n",
       "    <tr>\n",
       "      <th>116</th>\n",
       "      <td>105.2</td>\n",
       "      <td>217</td>\n",
       "      <td>650.0</td>\n",
       "      <td>485</td>\n",
       "      <td>250</td>\n",
       "      <td>3.8</td>\n",
       "    </tr>\n",
       "    <tr>\n",
       "      <th>302</th>\n",
       "      <td>46.3</td>\n",
       "      <td>226</td>\n",
       "      <td>330.0</td>\n",
       "      <td>205</td>\n",
       "      <td>135</td>\n",
       "      <td>11.7</td>\n",
       "    </tr>\n",
       "    <tr>\n",
       "      <th>75</th>\n",
       "      <td>109.0</td>\n",
       "      <td>220</td>\n",
       "      <td>1040.0</td>\n",
       "      <td>495</td>\n",
       "      <td>250</td>\n",
       "      <td>4.5</td>\n",
       "    </tr>\n",
       "    <tr>\n",
       "      <th>38</th>\n",
       "      <td>106.0</td>\n",
       "      <td>210</td>\n",
       "      <td>640.0</td>\n",
       "      <td>505</td>\n",
       "      <td>200</td>\n",
       "      <td>5.6</td>\n",
       "    </tr>\n",
       "    <tr>\n",
       "      <th>21</th>\n",
       "      <td>85.4</td>\n",
       "      <td>180</td>\n",
       "      <td>450.0</td>\n",
       "      <td>475</td>\n",
       "      <td>180</td>\n",
       "      <td>3.9</td>\n",
       "    </tr>\n",
       "    <tr>\n",
       "      <th>...</th>\n",
       "      <td>...</td>\n",
       "      <td>...</td>\n",
       "      <td>...</td>\n",
       "      <td>...</td>\n",
       "      <td>...</td>\n",
       "      <td>...</td>\n",
       "    </tr>\n",
       "    <tr>\n",
       "      <th>178</th>\n",
       "      <td>77.0</td>\n",
       "      <td>181</td>\n",
       "      <td>630.0</td>\n",
       "      <td>425</td>\n",
       "      <td>180</td>\n",
       "      <td>6.6</td>\n",
       "    </tr>\n",
       "    <tr>\n",
       "      <th>141</th>\n",
       "      <td>49.0</td>\n",
       "      <td>185</td>\n",
       "      <td>250.0</td>\n",
       "      <td>265</td>\n",
       "      <td>175</td>\n",
       "      <td>8.6</td>\n",
       "    </tr>\n",
       "    <tr>\n",
       "      <th>15</th>\n",
       "      <td>64.8</td>\n",
       "      <td>168</td>\n",
       "      <td>390.0</td>\n",
       "      <td>385</td>\n",
       "      <td>167</td>\n",
       "      <td>7.8</td>\n",
       "    </tr>\n",
       "    <tr>\n",
       "      <th>144</th>\n",
       "      <td>89.0</td>\n",
       "      <td>209</td>\n",
       "      <td>660.0</td>\n",
       "      <td>425</td>\n",
       "      <td>200</td>\n",
       "      <td>6.0</td>\n",
       "    </tr>\n",
       "    <tr>\n",
       "      <th>313</th>\n",
       "      <td>71.0</td>\n",
       "      <td>187</td>\n",
       "      <td>930.0</td>\n",
       "      <td>380</td>\n",
       "      <td>230</td>\n",
       "      <td>5.4</td>\n",
       "    </tr>\n",
       "  </tbody>\n",
       "</table>\n",
       "<p>245 rows × 6 columns</p>\n",
       "</div>"
      ],
      "text/plain": [
       "     Battery  Efficiency  FastCharge  Range  TopSpeed  AccelerationTime\n",
       "116    105.2         217       650.0    485       250               3.8\n",
       "302     46.3         226       330.0    205       135              11.7\n",
       "75     109.0         220      1040.0    495       250               4.5\n",
       "38     106.0         210       640.0    505       200               5.6\n",
       "21      85.4         180       450.0    475       180               3.9\n",
       "..       ...         ...         ...    ...       ...               ...\n",
       "178     77.0         181       630.0    425       180               6.6\n",
       "141     49.0         185       250.0    265       175               8.6\n",
       "15      64.8         168       390.0    385       167               7.8\n",
       "144     89.0         209       660.0    425       200               6.0\n",
       "313     71.0         187       930.0    380       230               5.4\n",
       "\n",
       "[245 rows x 6 columns]"
      ]
     },
     "execution_count": 41,
     "metadata": {},
     "output_type": "execute_result"
    }
   ],
   "source": [
    "x_train"
   ]
  },
  {
   "cell_type": "code",
   "execution_count": 40,
   "id": "49f2b7b4",
   "metadata": {},
   "outputs": [
    {
     "data": {
      "text/plain": [
       "116    136100.0\n",
       "302     43050.0\n",
       "75      95990.0\n",
       "38      85300.0\n",
       "21      70805.0\n",
       "         ...   \n",
       "178     49020.0\n",
       "141     33990.0\n",
       "15      45690.0\n",
       "144     74400.0\n",
       "313     94091.0\n",
       "Name: Price, Length: 245, dtype: float64"
      ]
     },
     "execution_count": 40,
     "metadata": {},
     "output_type": "execute_result"
    }
   ],
   "source": [
    "y_train"
   ]
  },
  {
   "cell_type": "code",
   "execution_count": 41,
   "id": "d13de33f",
   "metadata": {},
   "outputs": [
    {
     "data": {
      "text/html": [
       "<div>\n",
       "<style scoped>\n",
       "    .dataframe tbody tr th:only-of-type {\n",
       "        vertical-align: middle;\n",
       "    }\n",
       "\n",
       "    .dataframe tbody tr th {\n",
       "        vertical-align: top;\n",
       "    }\n",
       "\n",
       "    .dataframe thead th {\n",
       "        text-align: right;\n",
       "    }\n",
       "</style>\n",
       "<table border=\"1\" class=\"dataframe\">\n",
       "  <thead>\n",
       "    <tr style=\"text-align: right;\">\n",
       "      <th></th>\n",
       "      <th>Battery</th>\n",
       "      <th>Efficiency</th>\n",
       "      <th>FastCharge</th>\n",
       "      <th>Range</th>\n",
       "      <th>TopSpeed</th>\n",
       "      <th>AccelerationTime</th>\n",
       "    </tr>\n",
       "  </thead>\n",
       "  <tbody>\n",
       "    <tr>\n",
       "      <th>126</th>\n",
       "      <td>96.0</td>\n",
       "      <td>231</td>\n",
       "      <td>720.0</td>\n",
       "      <td>415</td>\n",
       "      <td>200</td>\n",
       "      <td>5.3</td>\n",
       "    </tr>\n",
       "    <tr>\n",
       "      <th>331</th>\n",
       "      <td>21.3</td>\n",
       "      <td>158</td>\n",
       "      <td>230.0</td>\n",
       "      <td>135</td>\n",
       "      <td>135</td>\n",
       "      <td>9.0</td>\n",
       "    </tr>\n",
       "    <tr>\n",
       "      <th>283</th>\n",
       "      <td>46.3</td>\n",
       "      <td>220</td>\n",
       "      <td>330.0</td>\n",
       "      <td>210</td>\n",
       "      <td>135</td>\n",
       "      <td>11.2</td>\n",
       "    </tr>\n",
       "    <tr>\n",
       "      <th>146</th>\n",
       "      <td>54.0</td>\n",
       "      <td>177</td>\n",
       "      <td>750.0</td>\n",
       "      <td>305</td>\n",
       "      <td>185</td>\n",
       "      <td>8.5</td>\n",
       "    </tr>\n",
       "    <tr>\n",
       "      <th>222</th>\n",
       "      <td>87.0</td>\n",
       "      <td>215</td>\n",
       "      <td>480.0</td>\n",
       "      <td>405</td>\n",
       "      <td>200</td>\n",
       "      <td>5.7</td>\n",
       "    </tr>\n",
       "    <tr>\n",
       "      <th>...</th>\n",
       "      <td>...</td>\n",
       "      <td>...</td>\n",
       "      <td>...</td>\n",
       "      <td>...</td>\n",
       "      <td>...</td>\n",
       "      <td>...</td>\n",
       "    </tr>\n",
       "    <tr>\n",
       "      <th>346</th>\n",
       "      <td>60.0</td>\n",
       "      <td>293</td>\n",
       "      <td>300.0</td>\n",
       "      <td>205</td>\n",
       "      <td>160</td>\n",
       "      <td>12.0</td>\n",
       "    </tr>\n",
       "    <tr>\n",
       "      <th>226</th>\n",
       "      <td>108.4</td>\n",
       "      <td>178</td>\n",
       "      <td>910.0</td>\n",
       "      <td>610</td>\n",
       "      <td>210</td>\n",
       "      <td>5.6</td>\n",
       "    </tr>\n",
       "    <tr>\n",
       "      <th>145</th>\n",
       "      <td>63.0</td>\n",
       "      <td>188</td>\n",
       "      <td>450.0</td>\n",
       "      <td>335</td>\n",
       "      <td>160</td>\n",
       "      <td>7.5</td>\n",
       "    </tr>\n",
       "    <tr>\n",
       "      <th>338</th>\n",
       "      <td>46.3</td>\n",
       "      <td>250</td>\n",
       "      <td>290.0</td>\n",
       "      <td>185</td>\n",
       "      <td>130</td>\n",
       "      <td>12.1</td>\n",
       "    </tr>\n",
       "    <tr>\n",
       "      <th>244</th>\n",
       "      <td>59.3</td>\n",
       "      <td>174</td>\n",
       "      <td>240.0</td>\n",
       "      <td>340</td>\n",
       "      <td>160</td>\n",
       "      <td>8.2</td>\n",
       "    </tr>\n",
       "  </tbody>\n",
       "</table>\n",
       "<p>62 rows × 6 columns</p>\n",
       "</div>"
      ],
      "text/plain": [
       "     Battery  Efficiency  FastCharge  Range  TopSpeed  AccelerationTime\n",
       "126     96.0         231       720.0    415       200               5.3\n",
       "331     21.3         158       230.0    135       135               9.0\n",
       "283     46.3         220       330.0    210       135              11.2\n",
       "146     54.0         177       750.0    305       185               8.5\n",
       "222     87.0         215       480.0    405       200               5.7\n",
       "..       ...         ...         ...    ...       ...               ...\n",
       "346     60.0         293       300.0    205       160              12.0\n",
       "226    108.4         178       910.0    610       210               5.6\n",
       "145     63.0         188       450.0    335       160               7.5\n",
       "338     46.3         250       290.0    185       130              12.1\n",
       "244     59.3         174       240.0    340       160               8.2\n",
       "\n",
       "[62 rows x 6 columns]"
      ]
     },
     "execution_count": 41,
     "metadata": {},
     "output_type": "execute_result"
    }
   ],
   "source": [
    "x_test"
   ]
  },
  {
   "cell_type": "code",
   "execution_count": 42,
   "id": "173e72aa",
   "metadata": {},
   "outputs": [
    {
     "data": {
      "text/plain": [
       "126     82380.0\n",
       "331     35490.0\n",
       "283     37800.0\n",
       "146     46990.0\n",
       "222     61990.0\n",
       "         ...   \n",
       "346     61571.0\n",
       "226    113359.0\n",
       "145     47490.0\n",
       "338     63250.0\n",
       "244     44490.0\n",
       "Name: Price, Length: 62, dtype: float64"
      ]
     },
     "execution_count": 42,
     "metadata": {},
     "output_type": "execute_result"
    }
   ],
   "source": [
    "y_test"
   ]
  },
  {
   "cell_type": "code",
   "execution_count": 43,
   "id": "38ea63af",
   "metadata": {},
   "outputs": [
    {
     "name": "stdout",
     "output_type": "stream",
     "text": [
      "[0.86598738 0.44728931 0.85786123 0.8674633  0.94846401 0.86307249\n",
      " 0.9256406  0.85053465 0.71821824 0.7498804  0.7370538  0.82321613]\n"
     ]
    }
   ],
   "source": [
    "model=RandomForestRegressor()\n",
    "kfold_validation=KFold(12)\n",
    "\n",
    "\n",
    "results=cross_val_score(model,x_train,y_train,cv=kfold_validation)\n",
    "print(results)"
   ]
  },
  {
   "cell_type": "code",
   "execution_count": 44,
   "id": "c7515b71",
   "metadata": {},
   "outputs": [
    {
     "data": {
      "text/html": [
       "<style>#sk-container-id-1 {color: black;background-color: white;}#sk-container-id-1 pre{padding: 0;}#sk-container-id-1 div.sk-toggleable {background-color: white;}#sk-container-id-1 label.sk-toggleable__label {cursor: pointer;display: block;width: 100%;margin-bottom: 0;padding: 0.3em;box-sizing: border-box;text-align: center;}#sk-container-id-1 label.sk-toggleable__label-arrow:before {content: \"▸\";float: left;margin-right: 0.25em;color: #696969;}#sk-container-id-1 label.sk-toggleable__label-arrow:hover:before {color: black;}#sk-container-id-1 div.sk-estimator:hover label.sk-toggleable__label-arrow:before {color: black;}#sk-container-id-1 div.sk-toggleable__content {max-height: 0;max-width: 0;overflow: hidden;text-align: left;background-color: #f0f8ff;}#sk-container-id-1 div.sk-toggleable__content pre {margin: 0.2em;color: black;border-radius: 0.25em;background-color: #f0f8ff;}#sk-container-id-1 input.sk-toggleable__control:checked~div.sk-toggleable__content {max-height: 200px;max-width: 100%;overflow: auto;}#sk-container-id-1 input.sk-toggleable__control:checked~label.sk-toggleable__label-arrow:before {content: \"▾\";}#sk-container-id-1 div.sk-estimator input.sk-toggleable__control:checked~label.sk-toggleable__label {background-color: #d4ebff;}#sk-container-id-1 div.sk-label input.sk-toggleable__control:checked~label.sk-toggleable__label {background-color: #d4ebff;}#sk-container-id-1 input.sk-hidden--visually {border: 0;clip: rect(1px 1px 1px 1px);clip: rect(1px, 1px, 1px, 1px);height: 1px;margin: -1px;overflow: hidden;padding: 0;position: absolute;width: 1px;}#sk-container-id-1 div.sk-estimator {font-family: monospace;background-color: #f0f8ff;border: 1px dotted black;border-radius: 0.25em;box-sizing: border-box;margin-bottom: 0.5em;}#sk-container-id-1 div.sk-estimator:hover {background-color: #d4ebff;}#sk-container-id-1 div.sk-parallel-item::after {content: \"\";width: 100%;border-bottom: 1px solid gray;flex-grow: 1;}#sk-container-id-1 div.sk-label:hover label.sk-toggleable__label {background-color: #d4ebff;}#sk-container-id-1 div.sk-serial::before {content: \"\";position: absolute;border-left: 1px solid gray;box-sizing: border-box;top: 0;bottom: 0;left: 50%;z-index: 0;}#sk-container-id-1 div.sk-serial {display: flex;flex-direction: column;align-items: center;background-color: white;padding-right: 0.2em;padding-left: 0.2em;position: relative;}#sk-container-id-1 div.sk-item {position: relative;z-index: 1;}#sk-container-id-1 div.sk-parallel {display: flex;align-items: stretch;justify-content: center;background-color: white;position: relative;}#sk-container-id-1 div.sk-item::before, #sk-container-id-1 div.sk-parallel-item::before {content: \"\";position: absolute;border-left: 1px solid gray;box-sizing: border-box;top: 0;bottom: 0;left: 50%;z-index: -1;}#sk-container-id-1 div.sk-parallel-item {display: flex;flex-direction: column;z-index: 1;position: relative;background-color: white;}#sk-container-id-1 div.sk-parallel-item:first-child::after {align-self: flex-end;width: 50%;}#sk-container-id-1 div.sk-parallel-item:last-child::after {align-self: flex-start;width: 50%;}#sk-container-id-1 div.sk-parallel-item:only-child::after {width: 0;}#sk-container-id-1 div.sk-dashed-wrapped {border: 1px dashed gray;margin: 0 0.4em 0.5em 0.4em;box-sizing: border-box;padding-bottom: 0.4em;background-color: white;}#sk-container-id-1 div.sk-label label {font-family: monospace;font-weight: bold;display: inline-block;line-height: 1.2em;}#sk-container-id-1 div.sk-label-container {text-align: center;}#sk-container-id-1 div.sk-container {/* jupyter's `normalize.less` sets `[hidden] { display: none; }` but bootstrap.min.css set `[hidden] { display: none !important; }` so we also need the `!important` here to be able to override the default hidden behavior on the sphinx rendered scikit-learn.org. See: https://github.com/scikit-learn/scikit-learn/issues/21755 */display: inline-block !important;position: relative;}#sk-container-id-1 div.sk-text-repr-fallback {display: none;}</style><div id=\"sk-container-id-1\" class=\"sk-top-container\"><div class=\"sk-text-repr-fallback\"><pre>Pipeline(steps=[(&#x27;imputation_mean&#x27;, SimpleImputer()),\n",
       "                (&#x27;scalar&#x27;, StandardScaler())])</pre><b>In a Jupyter environment, please rerun this cell to show the HTML representation or trust the notebook. <br />On GitHub, the HTML representation is unable to render, please try loading this page with nbviewer.org.</b></div><div class=\"sk-container\" hidden><div class=\"sk-item sk-dashed-wrapped\"><div class=\"sk-label-container\"><div class=\"sk-label sk-toggleable\"><input class=\"sk-toggleable__control sk-hidden--visually\" id=\"sk-estimator-id-1\" type=\"checkbox\" ><label for=\"sk-estimator-id-1\" class=\"sk-toggleable__label sk-toggleable__label-arrow\">Pipeline</label><div class=\"sk-toggleable__content\"><pre>Pipeline(steps=[(&#x27;imputation_mean&#x27;, SimpleImputer()),\n",
       "                (&#x27;scalar&#x27;, StandardScaler())])</pre></div></div></div><div class=\"sk-serial\"><div class=\"sk-item\"><div class=\"sk-estimator sk-toggleable\"><input class=\"sk-toggleable__control sk-hidden--visually\" id=\"sk-estimator-id-2\" type=\"checkbox\" ><label for=\"sk-estimator-id-2\" class=\"sk-toggleable__label sk-toggleable__label-arrow\">SimpleImputer</label><div class=\"sk-toggleable__content\"><pre>SimpleImputer()</pre></div></div></div><div class=\"sk-item\"><div class=\"sk-estimator sk-toggleable\"><input class=\"sk-toggleable__control sk-hidden--visually\" id=\"sk-estimator-id-3\" type=\"checkbox\" ><label for=\"sk-estimator-id-3\" class=\"sk-toggleable__label sk-toggleable__label-arrow\">StandardScaler</label><div class=\"sk-toggleable__content\"><pre>StandardScaler()</pre></div></div></div></div></div></div></div>"
      ],
      "text/plain": [
       "Pipeline(steps=[('imputation_mean', SimpleImputer()),\n",
       "                ('scalar', StandardScaler())])"
      ]
     },
     "execution_count": 44,
     "metadata": {},
     "output_type": "execute_result"
    }
   ],
   "source": [
    "numeric_preprocessing =Pipeline(steps=[(\"imputation_mean\",SimpleImputer(missing_values = np.nan ,strategy =\"mean\")),\n",
    "                                       (\"scalar\",StandardScaler())])\n",
    "numeric_preprocessing"
   ]
  },
  {
   "cell_type": "code",
   "execution_count": 45,
   "id": "856f96ad",
   "metadata": {},
   "outputs": [
    {
     "data": {
      "text/html": [
       "<style>#sk-container-id-2 {color: black;background-color: white;}#sk-container-id-2 pre{padding: 0;}#sk-container-id-2 div.sk-toggleable {background-color: white;}#sk-container-id-2 label.sk-toggleable__label {cursor: pointer;display: block;width: 100%;margin-bottom: 0;padding: 0.3em;box-sizing: border-box;text-align: center;}#sk-container-id-2 label.sk-toggleable__label-arrow:before {content: \"▸\";float: left;margin-right: 0.25em;color: #696969;}#sk-container-id-2 label.sk-toggleable__label-arrow:hover:before {color: black;}#sk-container-id-2 div.sk-estimator:hover label.sk-toggleable__label-arrow:before {color: black;}#sk-container-id-2 div.sk-toggleable__content {max-height: 0;max-width: 0;overflow: hidden;text-align: left;background-color: #f0f8ff;}#sk-container-id-2 div.sk-toggleable__content pre {margin: 0.2em;color: black;border-radius: 0.25em;background-color: #f0f8ff;}#sk-container-id-2 input.sk-toggleable__control:checked~div.sk-toggleable__content {max-height: 200px;max-width: 100%;overflow: auto;}#sk-container-id-2 input.sk-toggleable__control:checked~label.sk-toggleable__label-arrow:before {content: \"▾\";}#sk-container-id-2 div.sk-estimator input.sk-toggleable__control:checked~label.sk-toggleable__label {background-color: #d4ebff;}#sk-container-id-2 div.sk-label input.sk-toggleable__control:checked~label.sk-toggleable__label {background-color: #d4ebff;}#sk-container-id-2 input.sk-hidden--visually {border: 0;clip: rect(1px 1px 1px 1px);clip: rect(1px, 1px, 1px, 1px);height: 1px;margin: -1px;overflow: hidden;padding: 0;position: absolute;width: 1px;}#sk-container-id-2 div.sk-estimator {font-family: monospace;background-color: #f0f8ff;border: 1px dotted black;border-radius: 0.25em;box-sizing: border-box;margin-bottom: 0.5em;}#sk-container-id-2 div.sk-estimator:hover {background-color: #d4ebff;}#sk-container-id-2 div.sk-parallel-item::after {content: \"\";width: 100%;border-bottom: 1px solid gray;flex-grow: 1;}#sk-container-id-2 div.sk-label:hover label.sk-toggleable__label {background-color: #d4ebff;}#sk-container-id-2 div.sk-serial::before {content: \"\";position: absolute;border-left: 1px solid gray;box-sizing: border-box;top: 0;bottom: 0;left: 50%;z-index: 0;}#sk-container-id-2 div.sk-serial {display: flex;flex-direction: column;align-items: center;background-color: white;padding-right: 0.2em;padding-left: 0.2em;position: relative;}#sk-container-id-2 div.sk-item {position: relative;z-index: 1;}#sk-container-id-2 div.sk-parallel {display: flex;align-items: stretch;justify-content: center;background-color: white;position: relative;}#sk-container-id-2 div.sk-item::before, #sk-container-id-2 div.sk-parallel-item::before {content: \"\";position: absolute;border-left: 1px solid gray;box-sizing: border-box;top: 0;bottom: 0;left: 50%;z-index: -1;}#sk-container-id-2 div.sk-parallel-item {display: flex;flex-direction: column;z-index: 1;position: relative;background-color: white;}#sk-container-id-2 div.sk-parallel-item:first-child::after {align-self: flex-end;width: 50%;}#sk-container-id-2 div.sk-parallel-item:last-child::after {align-self: flex-start;width: 50%;}#sk-container-id-2 div.sk-parallel-item:only-child::after {width: 0;}#sk-container-id-2 div.sk-dashed-wrapped {border: 1px dashed gray;margin: 0 0.4em 0.5em 0.4em;box-sizing: border-box;padding-bottom: 0.4em;background-color: white;}#sk-container-id-2 div.sk-label label {font-family: monospace;font-weight: bold;display: inline-block;line-height: 1.2em;}#sk-container-id-2 div.sk-label-container {text-align: center;}#sk-container-id-2 div.sk-container {/* jupyter's `normalize.less` sets `[hidden] { display: none; }` but bootstrap.min.css set `[hidden] { display: none !important; }` so we also need the `!important` here to be able to override the default hidden behavior on the sphinx rendered scikit-learn.org. See: https://github.com/scikit-learn/scikit-learn/issues/21755 */display: inline-block !important;position: relative;}#sk-container-id-2 div.sk-text-repr-fallback {display: none;}</style><div id=\"sk-container-id-2\" class=\"sk-top-container\"><div class=\"sk-text-repr-fallback\"><pre>ColumnTransformer(transformers=[(&#x27;numeric&#x27;,\n",
       "                                 Pipeline(steps=[(&#x27;imputation_mean&#x27;,\n",
       "                                                  SimpleImputer()),\n",
       "                                                 (&#x27;scalar&#x27;, StandardScaler())]),\n",
       "                                 [&#x27;Battery&#x27;, &#x27;Efficiency&#x27;, &#x27;Range&#x27;,\n",
       "                                  &#x27;FastCharge&#x27;, &#x27;AccelerationTime&#x27;,\n",
       "                                  &#x27;TopSpeed&#x27;])])</pre><b>In a Jupyter environment, please rerun this cell to show the HTML representation or trust the notebook. <br />On GitHub, the HTML representation is unable to render, please try loading this page with nbviewer.org.</b></div><div class=\"sk-container\" hidden><div class=\"sk-item sk-dashed-wrapped\"><div class=\"sk-label-container\"><div class=\"sk-label sk-toggleable\"><input class=\"sk-toggleable__control sk-hidden--visually\" id=\"sk-estimator-id-4\" type=\"checkbox\" ><label for=\"sk-estimator-id-4\" class=\"sk-toggleable__label sk-toggleable__label-arrow\">ColumnTransformer</label><div class=\"sk-toggleable__content\"><pre>ColumnTransformer(transformers=[(&#x27;numeric&#x27;,\n",
       "                                 Pipeline(steps=[(&#x27;imputation_mean&#x27;,\n",
       "                                                  SimpleImputer()),\n",
       "                                                 (&#x27;scalar&#x27;, StandardScaler())]),\n",
       "                                 [&#x27;Battery&#x27;, &#x27;Efficiency&#x27;, &#x27;Range&#x27;,\n",
       "                                  &#x27;FastCharge&#x27;, &#x27;AccelerationTime&#x27;,\n",
       "                                  &#x27;TopSpeed&#x27;])])</pre></div></div></div><div class=\"sk-parallel\"><div class=\"sk-parallel-item\"><div class=\"sk-item\"><div class=\"sk-label-container\"><div class=\"sk-label sk-toggleable\"><input class=\"sk-toggleable__control sk-hidden--visually\" id=\"sk-estimator-id-5\" type=\"checkbox\" ><label for=\"sk-estimator-id-5\" class=\"sk-toggleable__label sk-toggleable__label-arrow\">numeric</label><div class=\"sk-toggleable__content\"><pre>[&#x27;Battery&#x27;, &#x27;Efficiency&#x27;, &#x27;Range&#x27;, &#x27;FastCharge&#x27;, &#x27;AccelerationTime&#x27;, &#x27;TopSpeed&#x27;]</pre></div></div></div><div class=\"sk-serial\"><div class=\"sk-item\"><div class=\"sk-serial\"><div class=\"sk-item\"><div class=\"sk-estimator sk-toggleable\"><input class=\"sk-toggleable__control sk-hidden--visually\" id=\"sk-estimator-id-6\" type=\"checkbox\" ><label for=\"sk-estimator-id-6\" class=\"sk-toggleable__label sk-toggleable__label-arrow\">SimpleImputer</label><div class=\"sk-toggleable__content\"><pre>SimpleImputer()</pre></div></div></div><div class=\"sk-item\"><div class=\"sk-estimator sk-toggleable\"><input class=\"sk-toggleable__control sk-hidden--visually\" id=\"sk-estimator-id-7\" type=\"checkbox\" ><label for=\"sk-estimator-id-7\" class=\"sk-toggleable__label sk-toggleable__label-arrow\">StandardScaler</label><div class=\"sk-toggleable__content\"><pre>StandardScaler()</pre></div></div></div></div></div></div></div></div></div></div></div></div>"
      ],
      "text/plain": [
       "ColumnTransformer(transformers=[('numeric',\n",
       "                                 Pipeline(steps=[('imputation_mean',\n",
       "                                                  SimpleImputer()),\n",
       "                                                 ('scalar', StandardScaler())]),\n",
       "                                 ['Battery', 'Efficiency', 'Range',\n",
       "                                  'FastCharge', 'AccelerationTime',\n",
       "                                  'TopSpeed'])])"
      ]
     },
     "execution_count": 45,
     "metadata": {},
     "output_type": "execute_result"
    }
   ],
   "source": [
    "preprocessor = ColumnTransformer([(\"numeric\" ,numeric_preprocessing,[\"Battery\",\"Efficiency\",\"Range\",\"FastCharge\",\"AccelerationTime\",\"TopSpeed\"])])\n",
    "preprocessor"
   ]
  },
  {
   "cell_type": "code",
   "execution_count": 46,
   "id": "25b0e7ae",
   "metadata": {},
   "outputs": [
    {
     "data": {
      "text/html": [
       "<style>#sk-container-id-3 {color: black;background-color: white;}#sk-container-id-3 pre{padding: 0;}#sk-container-id-3 div.sk-toggleable {background-color: white;}#sk-container-id-3 label.sk-toggleable__label {cursor: pointer;display: block;width: 100%;margin-bottom: 0;padding: 0.3em;box-sizing: border-box;text-align: center;}#sk-container-id-3 label.sk-toggleable__label-arrow:before {content: \"▸\";float: left;margin-right: 0.25em;color: #696969;}#sk-container-id-3 label.sk-toggleable__label-arrow:hover:before {color: black;}#sk-container-id-3 div.sk-estimator:hover label.sk-toggleable__label-arrow:before {color: black;}#sk-container-id-3 div.sk-toggleable__content {max-height: 0;max-width: 0;overflow: hidden;text-align: left;background-color: #f0f8ff;}#sk-container-id-3 div.sk-toggleable__content pre {margin: 0.2em;color: black;border-radius: 0.25em;background-color: #f0f8ff;}#sk-container-id-3 input.sk-toggleable__control:checked~div.sk-toggleable__content {max-height: 200px;max-width: 100%;overflow: auto;}#sk-container-id-3 input.sk-toggleable__control:checked~label.sk-toggleable__label-arrow:before {content: \"▾\";}#sk-container-id-3 div.sk-estimator input.sk-toggleable__control:checked~label.sk-toggleable__label {background-color: #d4ebff;}#sk-container-id-3 div.sk-label input.sk-toggleable__control:checked~label.sk-toggleable__label {background-color: #d4ebff;}#sk-container-id-3 input.sk-hidden--visually {border: 0;clip: rect(1px 1px 1px 1px);clip: rect(1px, 1px, 1px, 1px);height: 1px;margin: -1px;overflow: hidden;padding: 0;position: absolute;width: 1px;}#sk-container-id-3 div.sk-estimator {font-family: monospace;background-color: #f0f8ff;border: 1px dotted black;border-radius: 0.25em;box-sizing: border-box;margin-bottom: 0.5em;}#sk-container-id-3 div.sk-estimator:hover {background-color: #d4ebff;}#sk-container-id-3 div.sk-parallel-item::after {content: \"\";width: 100%;border-bottom: 1px solid gray;flex-grow: 1;}#sk-container-id-3 div.sk-label:hover label.sk-toggleable__label {background-color: #d4ebff;}#sk-container-id-3 div.sk-serial::before {content: \"\";position: absolute;border-left: 1px solid gray;box-sizing: border-box;top: 0;bottom: 0;left: 50%;z-index: 0;}#sk-container-id-3 div.sk-serial {display: flex;flex-direction: column;align-items: center;background-color: white;padding-right: 0.2em;padding-left: 0.2em;position: relative;}#sk-container-id-3 div.sk-item {position: relative;z-index: 1;}#sk-container-id-3 div.sk-parallel {display: flex;align-items: stretch;justify-content: center;background-color: white;position: relative;}#sk-container-id-3 div.sk-item::before, #sk-container-id-3 div.sk-parallel-item::before {content: \"\";position: absolute;border-left: 1px solid gray;box-sizing: border-box;top: 0;bottom: 0;left: 50%;z-index: -1;}#sk-container-id-3 div.sk-parallel-item {display: flex;flex-direction: column;z-index: 1;position: relative;background-color: white;}#sk-container-id-3 div.sk-parallel-item:first-child::after {align-self: flex-end;width: 50%;}#sk-container-id-3 div.sk-parallel-item:last-child::after {align-self: flex-start;width: 50%;}#sk-container-id-3 div.sk-parallel-item:only-child::after {width: 0;}#sk-container-id-3 div.sk-dashed-wrapped {border: 1px dashed gray;margin: 0 0.4em 0.5em 0.4em;box-sizing: border-box;padding-bottom: 0.4em;background-color: white;}#sk-container-id-3 div.sk-label label {font-family: monospace;font-weight: bold;display: inline-block;line-height: 1.2em;}#sk-container-id-3 div.sk-label-container {text-align: center;}#sk-container-id-3 div.sk-container {/* jupyter's `normalize.less` sets `[hidden] { display: none; }` but bootstrap.min.css set `[hidden] { display: none !important; }` so we also need the `!important` here to be able to override the default hidden behavior on the sphinx rendered scikit-learn.org. See: https://github.com/scikit-learn/scikit-learn/issues/21755 */display: inline-block !important;position: relative;}#sk-container-id-3 div.sk-text-repr-fallback {display: none;}</style><div id=\"sk-container-id-3\" class=\"sk-top-container\"><div class=\"sk-text-repr-fallback\"><pre>Pipeline(steps=[(&#x27;columntransformer&#x27;,\n",
       "                 ColumnTransformer(transformers=[(&#x27;numeric&#x27;,\n",
       "                                                  Pipeline(steps=[(&#x27;imputation_mean&#x27;,\n",
       "                                                                   SimpleImputer()),\n",
       "                                                                  (&#x27;scalar&#x27;,\n",
       "                                                                   StandardScaler())]),\n",
       "                                                  [&#x27;Battery&#x27;, &#x27;Efficiency&#x27;,\n",
       "                                                   &#x27;Range&#x27;, &#x27;FastCharge&#x27;,\n",
       "                                                   &#x27;AccelerationTime&#x27;,\n",
       "                                                   &#x27;TopSpeed&#x27;])])),\n",
       "                (&#x27;linearregression&#x27;, LinearRegression()),\n",
       "                (&#x27;randomforestregressor&#x27;, RandomForestRegressor()),\n",
       "                (&#x27;lasso&#x27;, Lasso()), (&#x27;ridge&#x27;, Ridge()),\n",
       "                (&#x27;elasticnet&#x27;, ElasticNet()),\n",
       "                (&#x27;decisiontreeregressor&#x27;, DecisionTreeRegressor())])</pre><b>In a Jupyter environment, please rerun this cell to show the HTML representation or trust the notebook. <br />On GitHub, the HTML representation is unable to render, please try loading this page with nbviewer.org.</b></div><div class=\"sk-container\" hidden><div class=\"sk-item sk-dashed-wrapped\"><div class=\"sk-label-container\"><div class=\"sk-label sk-toggleable\"><input class=\"sk-toggleable__control sk-hidden--visually\" id=\"sk-estimator-id-8\" type=\"checkbox\" ><label for=\"sk-estimator-id-8\" class=\"sk-toggleable__label sk-toggleable__label-arrow\">Pipeline</label><div class=\"sk-toggleable__content\"><pre>Pipeline(steps=[(&#x27;columntransformer&#x27;,\n",
       "                 ColumnTransformer(transformers=[(&#x27;numeric&#x27;,\n",
       "                                                  Pipeline(steps=[(&#x27;imputation_mean&#x27;,\n",
       "                                                                   SimpleImputer()),\n",
       "                                                                  (&#x27;scalar&#x27;,\n",
       "                                                                   StandardScaler())]),\n",
       "                                                  [&#x27;Battery&#x27;, &#x27;Efficiency&#x27;,\n",
       "                                                   &#x27;Range&#x27;, &#x27;FastCharge&#x27;,\n",
       "                                                   &#x27;AccelerationTime&#x27;,\n",
       "                                                   &#x27;TopSpeed&#x27;])])),\n",
       "                (&#x27;linearregression&#x27;, LinearRegression()),\n",
       "                (&#x27;randomforestregressor&#x27;, RandomForestRegressor()),\n",
       "                (&#x27;lasso&#x27;, Lasso()), (&#x27;ridge&#x27;, Ridge()),\n",
       "                (&#x27;elasticnet&#x27;, ElasticNet()),\n",
       "                (&#x27;decisiontreeregressor&#x27;, DecisionTreeRegressor())])</pre></div></div></div><div class=\"sk-serial\"><div class=\"sk-item sk-dashed-wrapped\"><div class=\"sk-label-container\"><div class=\"sk-label sk-toggleable\"><input class=\"sk-toggleable__control sk-hidden--visually\" id=\"sk-estimator-id-9\" type=\"checkbox\" ><label for=\"sk-estimator-id-9\" class=\"sk-toggleable__label sk-toggleable__label-arrow\">columntransformer: ColumnTransformer</label><div class=\"sk-toggleable__content\"><pre>ColumnTransformer(transformers=[(&#x27;numeric&#x27;,\n",
       "                                 Pipeline(steps=[(&#x27;imputation_mean&#x27;,\n",
       "                                                  SimpleImputer()),\n",
       "                                                 (&#x27;scalar&#x27;, StandardScaler())]),\n",
       "                                 [&#x27;Battery&#x27;, &#x27;Efficiency&#x27;, &#x27;Range&#x27;,\n",
       "                                  &#x27;FastCharge&#x27;, &#x27;AccelerationTime&#x27;,\n",
       "                                  &#x27;TopSpeed&#x27;])])</pre></div></div></div><div class=\"sk-parallel\"><div class=\"sk-parallel-item\"><div class=\"sk-item\"><div class=\"sk-label-container\"><div class=\"sk-label sk-toggleable\"><input class=\"sk-toggleable__control sk-hidden--visually\" id=\"sk-estimator-id-10\" type=\"checkbox\" ><label for=\"sk-estimator-id-10\" class=\"sk-toggleable__label sk-toggleable__label-arrow\">numeric</label><div class=\"sk-toggleable__content\"><pre>[&#x27;Battery&#x27;, &#x27;Efficiency&#x27;, &#x27;Range&#x27;, &#x27;FastCharge&#x27;, &#x27;AccelerationTime&#x27;, &#x27;TopSpeed&#x27;]</pre></div></div></div><div class=\"sk-serial\"><div class=\"sk-item\"><div class=\"sk-serial\"><div class=\"sk-item\"><div class=\"sk-estimator sk-toggleable\"><input class=\"sk-toggleable__control sk-hidden--visually\" id=\"sk-estimator-id-11\" type=\"checkbox\" ><label for=\"sk-estimator-id-11\" class=\"sk-toggleable__label sk-toggleable__label-arrow\">SimpleImputer</label><div class=\"sk-toggleable__content\"><pre>SimpleImputer()</pre></div></div></div><div class=\"sk-item\"><div class=\"sk-estimator sk-toggleable\"><input class=\"sk-toggleable__control sk-hidden--visually\" id=\"sk-estimator-id-12\" type=\"checkbox\" ><label for=\"sk-estimator-id-12\" class=\"sk-toggleable__label sk-toggleable__label-arrow\">StandardScaler</label><div class=\"sk-toggleable__content\"><pre>StandardScaler()</pre></div></div></div></div></div></div></div></div></div></div><div class=\"sk-item\"><div class=\"sk-estimator sk-toggleable\"><input class=\"sk-toggleable__control sk-hidden--visually\" id=\"sk-estimator-id-13\" type=\"checkbox\" ><label for=\"sk-estimator-id-13\" class=\"sk-toggleable__label sk-toggleable__label-arrow\">LinearRegression</label><div class=\"sk-toggleable__content\"><pre>LinearRegression()</pre></div></div></div><div class=\"sk-item\"><div class=\"sk-estimator sk-toggleable\"><input class=\"sk-toggleable__control sk-hidden--visually\" id=\"sk-estimator-id-14\" type=\"checkbox\" ><label for=\"sk-estimator-id-14\" class=\"sk-toggleable__label sk-toggleable__label-arrow\">RandomForestRegressor</label><div class=\"sk-toggleable__content\"><pre>RandomForestRegressor()</pre></div></div></div><div class=\"sk-item\"><div class=\"sk-estimator sk-toggleable\"><input class=\"sk-toggleable__control sk-hidden--visually\" id=\"sk-estimator-id-15\" type=\"checkbox\" ><label for=\"sk-estimator-id-15\" class=\"sk-toggleable__label sk-toggleable__label-arrow\">Lasso</label><div class=\"sk-toggleable__content\"><pre>Lasso()</pre></div></div></div><div class=\"sk-item\"><div class=\"sk-estimator sk-toggleable\"><input class=\"sk-toggleable__control sk-hidden--visually\" id=\"sk-estimator-id-16\" type=\"checkbox\" ><label for=\"sk-estimator-id-16\" class=\"sk-toggleable__label sk-toggleable__label-arrow\">Ridge</label><div class=\"sk-toggleable__content\"><pre>Ridge()</pre></div></div></div><div class=\"sk-item\"><div class=\"sk-estimator sk-toggleable\"><input class=\"sk-toggleable__control sk-hidden--visually\" id=\"sk-estimator-id-17\" type=\"checkbox\" ><label for=\"sk-estimator-id-17\" class=\"sk-toggleable__label sk-toggleable__label-arrow\">ElasticNet</label><div class=\"sk-toggleable__content\"><pre>ElasticNet()</pre></div></div></div><div class=\"sk-item\"><div class=\"sk-estimator sk-toggleable\"><input class=\"sk-toggleable__control sk-hidden--visually\" id=\"sk-estimator-id-18\" type=\"checkbox\" ><label for=\"sk-estimator-id-18\" class=\"sk-toggleable__label sk-toggleable__label-arrow\">DecisionTreeRegressor</label><div class=\"sk-toggleable__content\"><pre>DecisionTreeRegressor()</pre></div></div></div></div></div></div></div>"
      ],
      "text/plain": [
       "Pipeline(steps=[('columntransformer',\n",
       "                 ColumnTransformer(transformers=[('numeric',\n",
       "                                                  Pipeline(steps=[('imputation_mean',\n",
       "                                                                   SimpleImputer()),\n",
       "                                                                  ('scalar',\n",
       "                                                                   StandardScaler())]),\n",
       "                                                  ['Battery', 'Efficiency',\n",
       "                                                   'Range', 'FastCharge',\n",
       "                                                   'AccelerationTime',\n",
       "                                                   'TopSpeed'])])),\n",
       "                ('linearregression', LinearRegression()),\n",
       "                ('randomforestregressor', RandomForestRegressor()),\n",
       "                ('lasso', Lasso()), ('ridge', Ridge()),\n",
       "                ('elasticnet', ElasticNet()),\n",
       "                ('decisiontreeregressor', DecisionTreeRegressor())])"
      ]
     },
     "execution_count": 46,
     "metadata": {},
     "output_type": "execute_result"
    }
   ],
   "source": [
    "pipe = Pipeline(steps=[(\"preprocessor\", preprocessor), (\"Regressor\", LinearRegression(),)])\n",
    "pipe=make_pipeline(preprocessor,LinearRegression(), RandomForestRegressor(), Lasso(), Ridge(), ElasticNet(), DecisionTreeRegressor())\n",
    "pipe"
   ]
  },
  {
   "cell_type": "code",
   "execution_count": 47,
   "id": "5e74ac4b",
   "metadata": {},
   "outputs": [],
   "source": [
    "def model_fit_and_report(model):\n",
    "    \n",
    "    # Model training\n",
    "    model.fit(x_train, y_train)\n",
    "\n",
    "    # Make predictions on the training set for further evaluation\n",
    "    y_train_pred=model.predict(x_train)\n",
    "    y_pred=model.predict(x_test)\n",
    "\n",
    "    #Calculate r2 R-square\n",
    "    r2=r2_score(y_test, y_pred)\n",
    "\n",
    "    #Calculate Adjusted R-square\n",
    "    n=x_test.shape[0]  # Number of Sample\n",
    "    p=x_test.shape[1]  # Number of feature\n",
    "    adjusted_r2=1-((1-r2)*(n-1)/(n-p-1))\n",
    "\n",
    "    # Calculate Mean square Error (mse)\n",
    "    mse=mean_squared_error(y_test, y_pred)\n",
    "\n",
    "    # Calculate Root Mean square error (rmse)\n",
    "    rmse=math.sqrt(mse)\n",
    "\n",
    "    #Calculate mean Absolute Error (mae)\n",
    "    mae=mean_absolute_error(y_test, y_pred)\n",
    "\n",
    "    # Print the Result\n",
    "    print(f\"R-Square (r2):{r2:.2f}\")\n",
    "    print(f\"Adjusted R-Squared (adjusted_r2):{adjusted_r2:.2f}\")\n",
    "    print(f\"Mean Squared Error (mse):{mse:.2f}\")\n",
    "    print(f\"Root Mean Squared Error: (rmse):{rmse:.2f}\")\n",
    "    print(f\"Mean Absolute Error (mae):{mae:.2f}\")\n",
    "    "
   ]
  },
  {
   "cell_type": "code",
   "execution_count": 48,
   "id": "e2eee558",
   "metadata": {},
   "outputs": [
    {
     "name": "stdout",
     "output_type": "stream",
     "text": [
      "R-Square (r2):0.66\n",
      "Adjusted R-Squared (adjusted_r2):0.62\n",
      "Mean Squared Error (mse):523372888.41\n",
      "Root Mean Squared Error: (rmse):22877.34\n",
      "Mean Absolute Error (mae):15173.78\n"
     ]
    }
   ],
   "source": [
    "#Create a linear regression model\n",
    "model_fit_and_report(LinearRegression())"
   ]
  },
  {
   "cell_type": "code",
   "execution_count": 49,
   "id": "895735c5",
   "metadata": {},
   "outputs": [
    {
     "name": "stdout",
     "output_type": "stream",
     "text": [
      "R-Square (r2):0.90\n",
      "Adjusted R-Squared (adjusted_r2):0.89\n",
      "Mean Squared Error (mse):149544142.90\n",
      "Root Mean Squared Error: (rmse):12228.82\n",
      "Mean Absolute Error (mae):8016.44\n"
     ]
    }
   ],
   "source": [
    "# Create a linear regression model\n",
    "model_fit_and_report(RandomForestRegressor())"
   ]
  },
  {
   "cell_type": "code",
   "execution_count": 50,
   "id": "eed59a1b",
   "metadata": {},
   "outputs": [
    {
     "name": "stdout",
     "output_type": "stream",
     "text": [
      "R-Square (r2):0.66\n",
      "Adjusted R-Squared (adjusted_r2):0.62\n",
      "Mean Squared Error (mse):523372966.89\n",
      "Root Mean Squared Error: (rmse):22877.35\n",
      "Mean Absolute Error (mae):15173.78\n"
     ]
    }
   ],
   "source": [
    "# Create a linear regression model\n",
    "model_fit_and_report(Ridge(alpha=0.01))"
   ]
  },
  {
   "cell_type": "code",
   "execution_count": 51,
   "id": "77f40240",
   "metadata": {},
   "outputs": [
    {
     "name": "stdout",
     "output_type": "stream",
     "text": [
      "R-Square (r2):0.66\n",
      "Adjusted R-Squared (adjusted_r2):0.62\n",
      "Mean Squared Error (mse):523375743.89\n",
      "Root Mean Squared Error: (rmse):22877.41\n",
      "Mean Absolute Error (mae):15173.11\n"
     ]
    }
   ],
   "source": [
    "#Create a linear regression model\n",
    "model_fit_and_report(Lasso(alpha=20.0))"
   ]
  },
  {
   "cell_type": "code",
   "execution_count": 52,
   "id": "f2693799",
   "metadata": {},
   "outputs": [
    {
     "name": "stdout",
     "output_type": "stream",
     "text": [
      "R-Square (r2):0.66\n",
      "Adjusted R-Squared (adjusted_r2):0.62\n",
      "Mean Squared Error (mse):524243687.03\n",
      "Root Mean Squared Error: (rmse):22896.37\n",
      "Mean Absolute Error (mae):15154.95\n"
     ]
    }
   ],
   "source": [
    "model_fit_and_report(ElasticNet(alpha=1.0, l1_ratio=0.5))"
   ]
  },
  {
   "cell_type": "code",
   "execution_count": 53,
   "id": "2a9fe3e0",
   "metadata": {},
   "outputs": [
    {
     "name": "stdout",
     "output_type": "stream",
     "text": [
      "R-Square (r2):0.87\n",
      "Adjusted R-Squared (adjusted_r2):0.86\n",
      "Mean Squared Error (mse):195138008.07\n",
      "Root Mean Squared Error: (rmse):13969.18\n",
      "Mean Absolute Error (mae):8954.55\n"
     ]
    }
   ],
   "source": [
    "model_fit_and_report(DecisionTreeRegressor(random_state=40))"
   ]
  },
  {
   "cell_type": "code",
   "execution_count": 54,
   "id": "fa55b5d1",
   "metadata": {},
   "outputs": [
    {
     "ename": "SyntaxError",
     "evalue": "invalid syntax (2348888207.py, line 1)",
     "output_type": "error",
     "traceback": [
      "\u001b[1;36m  Cell \u001b[1;32mIn[54], line 1\u001b[1;36m\u001b[0m\n\u001b[1;33m    As we can see that all the above model.\u001b[0m\n\u001b[1;37m       ^\u001b[0m\n\u001b[1;31mSyntaxError\u001b[0m\u001b[1;31m:\u001b[0m invalid syntax\n"
     ]
    }
   ],
   "source": [
    "As we can see that all the above model.\n",
    "We can conclude that Random Forest Regression is the best fit model because the value of R-Squared is higher and mean squared error is less. \n",
    "It means we have Random Forest Regression is the best model to predict the price of the electric vehicle."
   ]
  },
  {
   "cell_type": "code",
   "execution_count": 56,
   "id": "f10c539a",
   "metadata": {},
   "outputs": [
    {
     "name": "stdout",
     "output_type": "stream",
     "text": [
      "Requirement already satisfied: pandas in c:\\users\\ratna\\anaconda3\\lib\\site-packages (2.1.4)\n",
      "Requirement already satisfied: numpy<2,>=1.23.2 in c:\\users\\ratna\\anaconda3\\lib\\site-packages (from pandas) (1.26.4)\n",
      "Requirement already satisfied: python-dateutil>=2.8.2 in c:\\users\\ratna\\anaconda3\\lib\\site-packages (from pandas) (2.8.2)\n",
      "Requirement already satisfied: pytz>=2020.1 in c:\\users\\ratna\\anaconda3\\lib\\site-packages (from pandas) (2023.3.post1)\n",
      "Requirement already satisfied: tzdata>=2022.1 in c:\\users\\ratna\\anaconda3\\lib\\site-packages (from pandas) (2023.3)\n",
      "Requirement already satisfied: six>=1.5 in c:\\users\\ratna\\anaconda3\\lib\\site-packages (from python-dateutil>=2.8.2->pandas) (1.16.0)\n",
      "Note: you may need to restart the kernel to use updated packages.\n"
     ]
    }
   ],
   "source": [
    "pip install pandas "
   ]
  },
  {
   "cell_type": "code",
   "execution_count": null,
   "id": "7c02aaf9-d9cd-44a2-9ebd-b8be826f6bff",
   "metadata": {},
   "outputs": [],
   "source": []
  }
 ],
 "metadata": {
  "kernelspec": {
   "display_name": "Python 3 (ipykernel)",
   "language": "python",
   "name": "python3"
  },
  "language_info": {
   "codemirror_mode": {
    "name": "ipython",
    "version": 3
   },
   "file_extension": ".py",
   "mimetype": "text/x-python",
   "name": "python",
   "nbconvert_exporter": "python",
   "pygments_lexer": "ipython3",
   "version": "3.11.7"
  }
 },
 "nbformat": 4,
 "nbformat_minor": 5
}
